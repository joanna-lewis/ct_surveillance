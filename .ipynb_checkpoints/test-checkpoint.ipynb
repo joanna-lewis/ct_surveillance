{
 "cells": [
  {
   "cell_type": "code",
   "execution_count": 2,
   "metadata": {
    "collapsed": false
   },
   "outputs": [],
   "source": [
    "%matplotlib inline\n",
    "import pandas as pd\n",
    "import numpy as np\n",
    "import matplotlib.pyplot as plt\n",
    "import matplotlib\n",
    "\n",
    "def pandas_plot(ax, df, style_cycle, **kwargs):\n",
    "    \"\"\"\n",
    "    Plot a pandas DataFrame\n",
    "\n",
    "    Parameters\n",
    "    ----------\n",
    "    ax : matplotlib.axes.Axes\n",
    "        The axes to plot to\n",
    "\n",
    "    df : pd.DataFrame\n",
    "        The data to plot\n",
    "\n",
    "    style_cycle : Cycler\n",
    "        Something that when iterated over yields style dict\n",
    "\n",
    "    Returns\n",
    "    -------\n",
    "    ret : dict\n",
    "        Dictionary of line2d artists added \n",
    "    \"\"\"\n",
    "    ret = {}\n",
    "    x = df.index\n",
    "    for n, sty in zip(df.columns, style_cycle):\n",
    "        sty.update(kwargs)\n",
    "        ln, = ax.plot(x, df[n], label=n, **sty)\n",
    "        ret[n] = ln\n",
    "    ax.legend()\n",
    "    return ret"
   ]
  },
  {
   "cell_type": "code",
   "execution_count": 3,
   "metadata": {
    "collapsed": false
   },
   "outputs": [
    {
     "name": "stderr",
     "output_type": "stream",
     "text": [
      "/Library/Python/2.7/site-packages/IPython/html.py:14: ShimWarning: The `IPython.html` package has been deprecated. You should import from `notebook` instead. `IPython.html.widgets` has moved to `ipywidgets`.\n",
      "  \"`IPython.html.widgets` has moved to `ipywidgets`.\", ShimWarning)\n"
     ]
    }
   ],
   "source": [
    "from IPython.html.widgets import *\n",
    "from IPython.display import display\n",
    "\n",
    "def widget_function_factory(arts):\n",
    "    \"\"\"\n",
    "    Generate fulnction + args to pass to interactive\n",
    "    Parameters\n",
    "    ----------\n",
    "    arts : dict\n",
    "        dictionary of Line2D\n",
    "\n",
    "    \"\"\"\n",
    "\n",
    "    name = Dropdown(options=list(arts.keys()))\n",
    "\n",
    "    def set_all(_, old_line, new_line):\n",
    "        ln = arts[new_line]\n",
    "        lw.value = ln.get_lw()\n",
    "        alph.value = ln.get_alpha() or 1\n",
    "        visible.value = ln.get_visible()\n",
    "        markevery.value = ln.get_markevery()\n",
    "        marker.value = ln.get_marker()\n",
    "\n",
    "    def set_lw(_, old_lw, new_lw):\n",
    "        ln = arts[name.value]\n",
    "        arts[name.value].set_lw(new_lw)\n",
    "        arts[name.value].axes.legend()\n",
    "\n",
    "    def set_alpha(_, old_value, new_value):\n",
    "        ln = arts[name.value]\n",
    "        ln.set_alpha(new_value)\n",
    "        ln.axes.legend()\n",
    "\n",
    "    def set_visible(_, old_value, new_value):\n",
    "        ln = arts[name.value]\n",
    "        ln.set_visible(new_value)\n",
    "        ln.axes.legend()\n",
    "\n",
    "    def set_markevery(_, old_value, new_value):\n",
    "        ln = arts[name.value]\n",
    "        ln.set_markevery(new_value)\n",
    "\n",
    "    def set_marker(_, old_value, new_value):\n",
    "        ln = arts[name.value]\n",
    "        ln.set_marker(new_value)\n",
    "        ln.axes.legend()\n",
    "\n",
    "    lw = FloatSlider(min=1, max=5, description='lw: ')\n",
    "    alph = FloatSlider(min=0, max=1, description='alpha: ')\n",
    "    visible = Checkbox(description='visible: ')\n",
    "    markevery = IntSlider(min=1, max=15, description='markevery: ')\n",
    "    marker = Dropdown(options={v:k for k, v in matplotlib.markers.MarkerStyle.markers.items()},\n",
    "                     description='marker: ')\n",
    "\n",
    "    name.on_trait_change(set_all, 'value')\n",
    "    lw.on_trait_change(set_lw, 'value')\n",
    "    alph.on_trait_change(set_alpha, 'value')\n",
    "    visible.on_trait_change(set_visible, 'value')\n",
    "    markevery.on_trait_change(set_markevery, 'value')\n",
    "    marker.on_trait_change(set_marker, 'value')\n",
    "    display(name, lw, alph, marker, markevery, visible)\n",
    "    set_all(None, None, name.value)"
   ]
  },
  {
   "cell_type": "code",
   "execution_count": 5,
   "metadata": {
    "collapsed": false
   },
   "outputs": [
    {
     "ename": "ImportError",
     "evalue": "No module named cycler",
     "output_type": "error",
     "traceback": [
      "\u001b[0;31m---------------------------------------------------------------------------\u001b[0m",
      "\u001b[0;31mImportError\u001b[0m                               Traceback (most recent call last)",
      "\u001b[0;32m<ipython-input-5-2007b91ec7d1>\u001b[0m in \u001b[0;36m<module>\u001b[0;34m()\u001b[0m\n\u001b[1;32m      5\u001b[0m \u001b[0;34m\u001b[0m\u001b[0m\n\u001b[1;32m      6\u001b[0m \u001b[0mfig\u001b[0m\u001b[0;34m,\u001b[0m \u001b[0max\u001b[0m \u001b[0;34m=\u001b[0m \u001b[0mplt\u001b[0m\u001b[0;34m.\u001b[0m\u001b[0msubplots\u001b[0m\u001b[0;34m(\u001b[0m\u001b[0;34m)\u001b[0m\u001b[0;34m\u001b[0m\u001b[0m\n\u001b[0;32m----> 7\u001b[0;31m \u001b[0;32mfrom\u001b[0m \u001b[0mcycler\u001b[0m \u001b[0;32mimport\u001b[0m \u001b[0mcycler\u001b[0m\u001b[0;34m\u001b[0m\u001b[0m\n\u001b[0m\u001b[1;32m      8\u001b[0m \u001b[0;31m# style_cycle = cycler('color',['r', 'black', 'pink']) + cycler('marker', 'sxo')\u001b[0m\u001b[0;34m\u001b[0m\u001b[0;34m\u001b[0m\u001b[0m\n\u001b[1;32m      9\u001b[0m style_cycle = [{'color': 'r', 'marker': 's'},\n",
      "\u001b[0;31mImportError\u001b[0m: No module named cycler"
     ]
    },
    {
     "data": {
      "image/png": "[encoded data removed]",
      "text/plain": [
       "<matplotlib.figure.Figure at 0x112e8f250>"
      ]
     },
     "metadata": {},
     "output_type": "display_data"
    }
   ],
   "source": [
    "th = np.linspace(0, 2*np.pi, 128)\n",
    "df = pd.DataFrame({'sin': np.sin(th),\n",
    "                   'shift +': np.sin(th + np.pi / 3), \n",
    "                   'shift -': np.sin(th - np.pi / 3)}, index=th)\n",
    "\n",
    "fig, ax = plt.subplots()\n",
    "# from cycler import cycler\n",
    "# style_cycle = cycler('color',['r', 'black', 'pink']) + cycler('marker', 'sxo')\n",
    "style_cycle = [{'color': 'r', 'marker': 's'},\n",
    "              {'color': 'black', 'marker': 'x'},\n",
    "              {'color': 'pink', 'marker': 'o'}]\n",
    "arts = pandas_plot(ax, df, style_cycle, markevery=10)\n",
    "vlns = []\n",
    "for x in np.arange(1, 7) * np.pi/3:\n",
    "    vlns.append(plt.axvline(x, color='k', linestyle=':'))\n",
    "plt.axhline(0, color='k', linestyle=':')"
   ]
  },
  {
   "cell_type": "code",
   "execution_count": null,
   "metadata": {
    "collapsed": true
   },
   "outputs": [],
   "source": [
    "widget_function_factory(arts)"
   ]
  }
 ],
 "metadata": {
  "kernelspec": {
   "display_name": "Python 2",
   "language": "python",
   "name": "python2"
  },
  "language_info": {
   "codemirror_mode": {
    "name": "ipython",
    "version": 2
   },
   "file_extension": ".py",
   "mimetype": "text/x-python",
   "name": "python",
   "nbconvert_exporter": "python",
   "pygments_lexer": "ipython2",
   "version": "2.7.10"
  }
 },
 "nbformat": 4,
 "nbformat_minor": 0
}
