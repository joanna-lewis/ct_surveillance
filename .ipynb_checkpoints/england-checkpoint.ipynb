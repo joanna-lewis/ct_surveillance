{
 "cells": [
  {
   "cell_type": "markdown",
   "metadata": {},
   "source": [
    "# Using surveillance data to investigate chlamydia prevalence\n",
    "\n",
    "This example illustrates the theoretical results in the parent folder. It uses surveillance data on chlamydia testing and diagnosis rates in England in 2012 available at: http://www.chlamydiascreening.nhs.uk/ps/data.asp (downloaded 17 April 2015). Data on the proportion of men and women sexually active comes from Natsal-2. (Note that no 15-year-olds are included in Natsal-2.) Begin by considering the nation as a whole:\n",
    "\n",
    "|      | Men (15-24 years old)  | Women (15-24 years old) |\n",
    "|------|------|-------|\n",
    "|Proportion sexually active: numerator | 1071 (weighted: 1307.6511)| 1239 (weighted: 1255.6630)|\n",
    "|Proportion sexually active: denominator | 1353 (weighted: 1630.126)| 1558 (weighted: 1534.735)|\n",
    "|Population | 3519015| 3388842 |\n",
    "|Tests      |566908 | 1205896 |\n",
    "|Diagnoses  |48387  | 88101 |"
   ]
  },
  {
   "cell_type": "code",
   "execution_count": 1,
   "metadata": {
    "collapsed": false
   },
   "outputs": [
    {
     "name": "stdout",
     "output_type": "stream",
     "text": [
      "[ 505.98795355  208.09085642]\n",
      "[ 466.55519199   45.77961509]\n",
      "[ 532.23142129  237.52519958]\n",
      "[ 569.18290127   53.77883386]\n"
     ]
    }
   ],
   "source": [
    "from numpy import *\n",
    "from scipy.stats import beta\n",
    "from scipy.optimize import fsolve\n",
    "\n",
    "# men, 16-19\n",
    "print fsolve(\n",
    "    lambda x: array(beta.interval(0.95, x[0], x[1], loc=0, scale=1))\n",
    "    - (0.6747424, 0.741327698),\n",
    "    [1,1]\n",
    "    )\n",
    "\n",
    "# men, 20-24\n",
    "print fsolve(\n",
    "    lambda x: array(beta.interval(0.95, x[0], x[1], loc=0, scale=1))\n",
    "    - (0.8844970, 0.933759842),\n",
    "    [1,1]\n",
    "    )\n",
    "\n",
    "# women, 16-19\n",
    "print fsolve(\n",
    "    lambda x: array(beta.interval(0.95, x[0], x[1], loc=0, scale=1))\n",
    "    - (0.6583593, 0.723554878),\n",
    "    [1,1]\n",
    "    )\n",
    "\n",
    "# women, 20-24\n",
    "print fsolve(\n",
    "    lambda x: array(beta.interval(0.95, x[0], x[1], loc=0, scale=1))\n",
    "    - (0.8904135, 0.934417684),\n",
    "    [1,1]\n",
    "    )\n"
   ]
  },
  {
   "cell_type": "code",
   "execution_count": 2,
   "metadata": {
    "collapsed": false
   },
   "outputs": [],
   "source": [
    "from scipy.stats import gamma\n",
    "from numpy.random import normal\n",
    "\n",
    "n_sample = 10000\n",
    "\n",
    "# sexually-active population:\n",
    "p_active_m_16_19 = random.beta(505.98795355, 208.09085642, size=n_sample) # 16-19 yo only\n",
    "pop_active_m_15_19 = random.binomial(1685620, p_active_m_16_19, size=n_sample)\n",
    "\n",
    "p_active_m_20_24 = random.beta(466.55519199, 45.77961509, size=n_sample) # 20-24 yo only\n",
    "pop_active_m_20_24 = random.binomial(1833395, p_active_m_20_24, size=n_sample)\n",
    "\n",
    "p_active_f_16_19 = random.beta(532.23142129, 237.52519958, size=n_sample) # 16-19 yo only\n",
    "pop_active_f_15_19 = random.binomial(1600686, p_active_f_16_19, size=n_sample)\n",
    "p_active_f_20_24 = random.beta(569.18290127, 53.77883386, size=n_sample) # 20-24 yo only\n",
    "pop_active_f_20_24 = random.binomial(1788156, p_active_f_20_24, size=n_sample)\n",
    "\n",
    "# data in men: testing and diagnosis rates, per person per year\n",
    "diag_rate_m_15_19 = random.gamma(15213, 1, size=n_sample)/pop_active_m_15_19\n",
    "diag_rate_m_20_24 = random.gamma(33174, 1, size=n_sample)/pop_active_m_20_24\n",
    "test_rate_m_15_19 = random.gamma(232668, 1, size=n_sample)/pop_active_m_15_19\n",
    "test_rate_m_20_24 = random.gamma(334240, 1, size=n_sample)/pop_active_m_20_24\n",
    "diag_rate_f_15_19 = random.gamma(42874, 1, size=n_sample)/pop_active_f_15_19\n",
    "diag_rate_f_20_24 = random.gamma(45227, 1, size=n_sample)/pop_active_f_20_24\n",
    "test_rate_f_15_19 = random.gamma(520358, 1, size=n_sample)/pop_active_f_15_19\n",
    "test_rate_f_20_24 = random.gamma(685538, 1, size=n_sample)/pop_active_f_20_24\n",
    "\n",
    "# proportion of incident infections asymptomatic is not known, and \n",
    "# proportion of prevalent infections asymptomatic would depend on the screening programme.\n",
    "# for the moment, assume\n",
    "p_asymp_m = random.beta(69 + 1, 78 - 69 + 1, size=n_sample) # Mackay et al. Lancet 361 (2003) 88% NB this is an upper bound, as relates to the proportion of prevalent - not incident - infections\n",
    "p_asymp_f = random.beta(163 + 1, 185 - 163 + 1, size=n_sample) # Kahn et al. STDs (2003) 88% NB this is an upper bound, as relates to the proportion of prevalent - not incident - infections. It's also from the US, and the % reported in the paper doesn't give a whole number of patients..\n",
    "\n",
    "# test performance\n",
    "p_true_pos_m = random.beta(32+1, 0+1, size=n_sample) # Horner J. Clin. Microbiol (2005): 32 of 32 infected samples tested +ve\n",
    "p_false_pos_m = random.beta(2+1, 950+1, size=n_sample) # Horner J. Clin. Microbiol (2005): 2 of 952 uninfected samples tested +ve\n",
    "p_true_pos_f = random.beta(129+1, 12+1, size=n_sample) # Low Health Technol Assess (2007): 129 of 141 infected samples tested +ve\n",
    "p_false_pos_f = random.beta(4+1, 2323+1, size=n_sample) # Low Health Technol Assess (2007): 4 of 2327 uninfected samples tested +ve\n"
   ]
  },
  {
   "cell_type": "code",
   "execution_count": 3,
   "metadata": {
    "collapsed": false
   },
   "outputs": [
    {
     "name": "stdout",
     "output_type": "stream",
     "text": [
      "0.3714\n"
     ]
    }
   ],
   "source": [
    "# Metropolis-Hastings to get a sample for rate of treatment, given symptoms\n",
    "# assuming a constant hazard of attending beginning at the onset of symptoms\n",
    "# Don't have separate data for men and women here.\n",
    "\n",
    "%run multinomial_pmf.py\n",
    "\n",
    "i = 0\n",
    "att_symp = empty(n_sample) # testing rate per person per year\n",
    "old = 13 # starting sample value\n",
    "new = 13 # starting sample value\n",
    "# simulate probabilities corresponding to Mercer data\n",
    "simp_new = append((1 - exp(-array([7,14,28,42])*new/365.25)),1) - (1 - exp(-array([0,7,14,28,42])*new/365.25)) \n",
    "\n",
    "acc=0.\n",
    "while i < n_sample: # to do samples for p_test_symp\n",
    "    \n",
    "    new = random.normal(old, 1.5) # generate a sample from normal distribution\n",
    "    \n",
    "    if new < 0:\n",
    "        att_symp[i] = old # reject\n",
    "    else:\n",
    "        simp_old = append((1 - exp(-array([7,14,28,42])*old/365.25)),1) - (1 - exp(-array([0,7,14,28,42])*old/365.25)) # simulate probabilities corresponding to the Mercer data\n",
    "        simp_new = append((1 - exp(-array([7,14,28,42])*new/365.25)),1) - (1 - exp(-array([0,7,14,28,42])*new/365.25)) # simulate probabilities corresponding to the Mercer data\n",
    "\n",
    "        if sum(simp_new >0) != 5:\n",
    "            att_symp[i] = old # reject\n",
    "        else:\n",
    "            m_old = Multinomial(simp_old)\n",
    "            m_new = Multinomial(simp_new)\n",
    "\n",
    "            # simulate probabilities corresponding to the Mercer Sex. Transm. Dis. 2007\n",
    "            # nb would be best to get raw data from them\n",
    "            log_ratio = m_new.log_pmf([245, 132, 191, 152, 196]) - m_old.log_pmf([245, 132, 191, 152, 196])\n",
    "    \n",
    "            if log(random.uniform(0,1)) <  log_ratio: #/beta.pdf(sample, 4, 83) ):\n",
    "                att_symp[i] = old # reject\n",
    "                old = new\n",
    "                acc = acc+1\n",
    "            else:\n",
    "                att_symp[i] = new # reject\n",
    "        \n",
    "    i = i+1\n",
    "    \n",
    "print acc/n_sample\n"
   ]
  },
  {
   "cell_type": "code",
   "execution_count": 4,
   "metadata": {
    "collapsed": false
   },
   "outputs": [
    {
     "data": {
      "text/plain": [
       "13.443841273175552"
      ]
     },
     "execution_count": 4,
     "metadata": {},
     "output_type": "execute_result"
    },
    {
     "data": {
      "image/png": "[encoded data removed]",
      "text/plain": [
       "<matplotlib.figure.Figure at 0x1072f99d0>"
      ]
     },
     "metadata": {},
     "output_type": "display_data"
    }
   ],
   "source": [
    "import matplotlib.pyplot as plt\n",
    "%matplotlib inline\n",
    "plt.plot(att_symp)\n",
    "mean(att_symp)"
   ]
  },
  {
   "cell_type": "code",
   "execution_count": 5,
   "metadata": {
    "collapsed": false
   },
   "outputs": [
    {
     "name": "stdout",
     "output_type": "stream",
     "text": [
      "0.2899\n"
     ]
    }
   ],
   "source": [
    "# Metropolis-Hastings to get a sample for rate of spontaneous clearance in women\n",
    "# assuming a constant hazard of recovery\n",
    "# use Joyner STDs 2002\n",
    "\n",
    "i = 0\n",
    "sc_f = empty(n_sample) # testing rate per person per year\n",
    "old = 1 # starting sample value\n",
    "new = 1 # starting sample value\n",
    "# simulate probabilities corresponding to Joyner data\n",
    "simp_new = append((1 - exp(-array([7,14,21,42,112])*new/365.25)),1) - (1 - exp(-array([2,7,14,21,42,112])*new/365.25)) \n",
    "\n",
    "acc=0.\n",
    "while i < n_sample: # to do samples for p_test_symp\n",
    "    \n",
    "    new = random.normal(old, 1) # generate a sample from normal distribution\n",
    "    \n",
    "    if new < 0:\n",
    "        sc_f[i] = old # reject\n",
    "    else:\n",
    "        simp_old = append((1 - exp(-array([7,14,21,42,112])*old/365.25)),1) - (1 - exp(-array([2,7,14,21,42,112])*old/365.25)) # simulate probabilities corresponding to the Mercer data\n",
    "        simp_new = append((1 - exp(-array([7,14,21,42,112])*new/365.25)),1) - (1 - exp(-array([2,7,14,21,42,112])*new/365.25)) # simulate probabilities corresponding to the Mercer data\n",
    "\n",
    "        \n",
    "        if sum(simp_new >0) != 6:\n",
    "            sc_f[i] = old # reject\n",
    "        else:\n",
    "            f_old = Multinomial(simp_old)\n",
    "            f_new = Multinomial(simp_new)\n",
    "\n",
    "            # simulate probabilities \n",
    "            log_ratio = f_new.log_pmf([2, 7, 1, 0, 3, 45]) - f_old.log_pmf([2, 7, 1, 0, 3, 45])\n",
    "    \n",
    "            if log(random.uniform(0,1)) <  log_ratio: #/beta.pdf(sample, 4, 83) ):\n",
    "                sc_f[i] = old # reject\n",
    "                old = new\n",
    "                acc = acc+1\n",
    "            else:\n",
    "                sc_f[i] = new # reject\n",
    "        \n",
    "    i = i+1\n",
    "    \n",
    "print acc/n_sample\n",
    "\n"
   ]
  },
  {
   "cell_type": "code",
   "execution_count": 6,
   "metadata": {
    "collapsed": false
   },
   "outputs": [
    {
     "name": "stdout",
     "output_type": "stream",
     "text": [
      "0.3337\n"
     ]
    }
   ],
   "source": [
    "# Metropolis-Hastings to get a sample for rate of spontaneous clearance in men\n",
    "# assuming a constant hazard of recovery\n",
    "# use Joyner STDs 2002\n",
    "\n",
    "i = 0\n",
    "sc_m = empty(n_sample) # testing rate per person per year\n",
    "old = 1 # starting sample value\n",
    "new = 1 # starting sample value\n",
    "# simulate probabilities corresponding to Joyner data\n",
    "simp_new = append((1 - exp(-array([7,14,21,42,112])*new/365.25)),1) - (1 - exp(-array([2,7,14,21,42,112])*new/365.25)) \n",
    "\n",
    "acc=0.\n",
    "while i < n_sample: # to do samples for p_test_symp\n",
    "    \n",
    "    new = random.normal(old, 1) # generate a sample from normal distribution\n",
    "    \n",
    "    if new < 0:\n",
    "        sc_m[i] = old # reject\n",
    "    else:\n",
    "        simp_old = append((1 - exp(-array([7,14,21,42,112])*old/365.25)),1) - (1 - exp(-array([2,7,14,21,42,112])*old/365.25)) # simulate probabilities corresponding to the Mercer data\n",
    "        simp_new = append((1 - exp(-array([7,14,21,42,112])*new/365.25)),1) - (1 - exp(-array([2,7,14,21,42,112])*new/365.25)) # simulate probabilities corresponding to the Mercer data\n",
    "\n",
    "        \n",
    "        if sum(simp_new >0) != 6:\n",
    "            sc_m[i] = old # reject\n",
    "        else:\n",
    "            m_old = Multinomial(simp_old)\n",
    "            m_new = Multinomial(simp_new)\n",
    "\n",
    "            # simulate probabilities \n",
    "            log_ratio = m_new.log_pmf([3,2,1,0,1,29]) - m_old.log_pmf([3,2,1,0,1,29])\n",
    "    \n",
    "            if log(random.uniform(0,1)) <  log_ratio: #/beta.pdf(sample, 4, 83) ):\n",
    "                sc_m[i] = old # reject\n",
    "                old = new\n",
    "                acc = acc+1\n",
    "            else:\n",
    "                sc_m[i] = new # reject\n",
    "        \n",
    "    i = i+1\n",
    "    \n",
    "print acc/n_sample\n",
    "\n"
   ]
  },
  {
   "cell_type": "code",
   "execution_count": 7,
   "metadata": {
    "collapsed": false
   },
   "outputs": [
    {
     "name": "stdout",
     "output_type": "stream",
     "text": [
      "1.10960554269\n",
      "1.21279618745\n"
     ]
    },
    {
     "data": {
      "image/png": "[encoded data removed]",
      "text/plain": [
       "<matplotlib.figure.Figure at 0x10746f750>"
      ]
     },
     "metadata": {},
     "output_type": "display_data"
    }
   ],
   "source": [
    "fig = plt.figure(figsize = (10,10))\n",
    "ax1 = fig.add_subplot(221)\n",
    "ax1.plot(sc_m)\n",
    "ax2 = fig.add_subplot(222)\n",
    "ax2.plot(sc_f,'r')\n",
    "ax3 = fig.add_subplot(223)\n",
    "ax3.plot([0,7,14,21,42,112],[0,2,9,10,10,13])\n",
    "# a rate of 1.5 year^-1 corresponds to average recovery time of about 35 weeks.\n",
    "print mean(sc_m)\n",
    "print mean(sc_f)"
   ]
  },
  {
   "cell_type": "code",
   "execution_count": 9,
   "metadata": {
    "collapsed": false
   },
   "outputs": [],
   "source": [
    "# now use these samples to try and infer prevalence in men and women\n",
    "# this script contains the functions for three-part observations (tests, symptomatic diagnoses, asymptomatic diagnoses) too\n",
    "# running this script takes a little while because of all the symbolic algebra\n",
    "%run test_diag_fun.py\n",
    "\n",
    "from numpy import *\n",
    "from scipy.optimize import fsolve"
   ]
  },
  {
   "cell_type": "code",
   "execution_count": 10,
   "metadata": {
    "collapsed": false
   },
   "outputs": [],
   "source": [
    "# men first...\n",
    "prev_m_15_19 = zeros(n_sample)\n",
    "inc_m_15_19 = zeros(n_sample)\n",
    "scr_m_15_19 = zeros(n_sample)\n",
    "\n",
    "for i in xrange(n_sample):\n",
    "    [inc_m_15_19[i], scr_m_15_19[i]] = fsolve(lambda x: test_diag_fun(concatenate([\n",
    "                    x, array([\n",
    "                            1-p_asymp_m[i], # proportion of incident infections which are symptomatic\n",
    "                            sc_m[i], # rate of self-clear \n",
    "                            att_symp[i],\n",
    "                            p_true_pos_m[i], \n",
    "                            p_false_pos_m[i]\n",
    "                        ])])) - array([test_rate_m_15_19[i],diag_rate_m_15_19[i]]), [0.09, 0.25])\n",
    "    prev_m_15_19[i] = dyn_fun(inc_m_15_19[i]*p_asymp_m[i], sc_m[i] + scr_m_15_19[i]*p_true_pos_m[i], inc_m_15_19[i]*(1-p_asymp_m[i]), sc_m[i] + att_symp[i]*p_true_pos_m[i])"
   ]
  },
  {
   "cell_type": "code",
   "execution_count": 11,
   "metadata": {
    "collapsed": true
   },
   "outputs": [],
   "source": [
    "prev_m_20_24 = zeros(n_sample)\n",
    "inc_m_20_24 = zeros(n_sample)\n",
    "scr_m_20_24 = zeros(n_sample)\n",
    "\n",
    "for i in xrange(n_sample):\n",
    "    [inc_m_20_24[i], scr_m_20_24[i]] = fsolve(lambda x: test_diag_fun(concatenate([\n",
    "                    x, array([\n",
    "                            1-p_asymp_m[i], # proportion of incident infections which are symptomatic\n",
    "                            sc_m[i], # rate of self-clear \n",
    "                            att_symp[i],\n",
    "                            p_true_pos_m[i], \n",
    "                            p_false_pos_m[i]\n",
    "                        ])])) - array([test_rate_m_20_24[i],diag_rate_m_20_24[i]]), [0.09, 0.25])\n",
    "    prev_m_20_24[i] = dyn_fun(inc_m_20_24[i]*p_asymp_m[i], sc_m[i] + scr_m_20_24[i]*p_true_pos_m[i], inc_m_20_24[i]*(1-p_asymp_m[i]), sc_m[i] + att_symp[i]*p_true_pos_m[i])"
   ]
  },
  {
   "cell_type": "code",
   "execution_count": 12,
   "metadata": {
    "collapsed": false
   },
   "outputs": [],
   "source": [
    "# ... then women\n",
    "prev_f_15_19 = zeros(n_sample)\n",
    "inc_f_15_19 = zeros(n_sample)\n",
    "scr_f_15_19 = zeros(n_sample)\n",
    "\n",
    "for i in xrange(n_sample):\n",
    "    [inc_f_15_19[i], scr_f_15_19[i]] = fsolve(lambda x: test_diag_fun(concatenate([\n",
    "                    x, array([\n",
    "                            1-p_asymp_f[i], # proportion of incident infections which are symptomatic\n",
    "                            sc_f[i], # rate of self-clear \n",
    "                            att_symp[i],\n",
    "                            p_true_pos_f[i], \n",
    "                            p_false_pos_f[i]\n",
    "                        ])])) - array([test_rate_f_15_19[i],diag_rate_f_15_19[i]]), [0.03, 0.44])\n",
    "    prev_f_15_19[i] = dyn_fun(inc_f_15_19[i]*p_asymp_f[i], sc_f[i] + scr_f_15_19[i]*p_true_pos_f[i], inc_f_15_19[i]*(1-p_asymp_f[i]), sc_f[i] + att_symp[i]*p_true_pos_f[i])"
   ]
  },
  {
   "cell_type": "code",
   "execution_count": 13,
   "metadata": {
    "collapsed": false
   },
   "outputs": [],
   "source": [
    "# ... then women\n",
    "prev_f_20_24 = zeros(n_sample)\n",
    "inc_f_20_24 = zeros(n_sample)\n",
    "scr_f_20_24 = zeros(n_sample)\n",
    "\n",
    "for i in xrange(n_sample):\n",
    "    [inc_f_20_24[i], scr_f_20_24[i]] = fsolve(lambda x: test_diag_fun(concatenate([\n",
    "                    x, array([\n",
    "                            1-p_asymp_f[i], # proportion of incident infections which are symptomatic\n",
    "                            sc_f[i], # rate of self-clear \n",
    "                            att_symp[i],\n",
    "                            p_true_pos_f[i], \n",
    "                            p_false_pos_f[i]\n",
    "                        ])])) - array([test_rate_f_20_24[i],diag_rate_f_20_24[i]]), [0.03, 0.44])\n",
    "    prev_f_20_24[i] = dyn_fun(inc_f_20_24[i]*p_asymp_f[i], sc_f[i] + scr_f_20_24[i]*p_true_pos_f[i], inc_f_20_24[i]*(1-p_asymp_f[i]), sc_f[i] + att_symp[i]*p_true_pos_f[i])"
   ]
  },
  {
   "cell_type": "code",
   "execution_count": 14,
   "metadata": {
    "collapsed": false
   },
   "outputs": [
    {
     "data": {
      "text/plain": [
       "<matplotlib.text.Text at 0x109cb0b10>"
      ]
     },
     "execution_count": 14,
     "metadata": {},
     "output_type": "execute_result"
    },
    {
     "data": {
      "image/png": "[encoded data removed]",
      "text/plain": [
       "<matplotlib.figure.Figure at 0x109a5f5d0>"
      ]
     },
     "metadata": {},
     "output_type": "display_data"
    }
   ],
   "source": [
    "fig = plt.figure(figsize = (10,10))\n",
    "\n",
    "ax1 = fig.add_subplot(221)\n",
    "h_2012_m_15_19 = ax1.hist(prev_m_15_19, bins=20, normed=true, histtype='step', color='cyan')\n",
    "h_2012_m_20_24 = ax1.hist(prev_m_20_24, bins=20, normed=true, histtype='step', color='blue')\n",
    "#ax1.fill_betweenx([0,100], percentile(prev_m15_19, 2.5), percentile(prev_m15_19, 97.5), facecolor='b', alpha=0.5)\n",
    "ax1.errorbar(0.001, 25, xerr=[[0],[0.022-0.001]], ecolor='cyan', capsize=10)\n",
    "ax1.errorbar(0.022, 30, xerr=[[0],[0.052-0.022]], ecolor='blue', capsize=10)\n",
    "ax1.set_xlabel('Prevalence')\n",
    "ax1.set_xlim(0,0.1)\n",
    "ax1.set_ylim(0,60)\n",
    "ax1.set_title('Sexually active men, 15-24 years')\n",
    "\n",
    "ax2 = fig.add_subplot(222)\n",
    "h_2012_f_15_19 = ax2.hist(prev_f_15_19, range=[min(prev_f_15_19),max(prev_f_15_19)], bins=20, normed=true, histtype='step', color='fuchsia')\n",
    "h_2012_f_20_24 = ax2.hist(prev_f_20_24, range=[min(prev_f_20_24),max(prev_f_20_24)], bins=20, normed=true, histtype='step', color='r')\n",
    "#ax2.fill_betweenx([0,100], percentile(prev_f, 2.5), percentile(prev_f, 97.5), facecolor='r', alpha=0.5)\n",
    "ax2.errorbar(0.009, 20, xerr=[[0],[0.058-0.009]], ecolor='fuchsia', capsize=10)\n",
    "ax2.errorbar(0.025, 25, xerr=[[0],[0.086-0.025]], ecolor='fuchsia', capsize=10)\n",
    "ax2.errorbar(0.017, 30, xerr=[[0],[0.042-0.017]], ecolor='r', capsize=10)\n",
    "ax2.set_xlabel('Prevalence')\n",
    "ax2.set_xlim(0,0.1)\n",
    "ax2.set_ylim(0,60)\n",
    "ax2.set_title('Sexually active women, 15-24 years')\n",
    "\n",
    "# ax3 = fig.add_subplot(223)\n",
    "# ax3.fill_betweenx([0,1], percentile(inc_m, 2.5), percentile(inc_m, 97.5), facecolor='b', alpha=0.5)\n",
    "# ax3.fill_between([0,1], percentile(scr_m, 2.5), percentile(scr_m, 97.5), facecolor='b', alpha=0.5)\n",
    "# ax3.plot(inc_m, scr_m, '.', markersize=1)\n",
    "# ax3.set_xlim([0,0.3])\n",
    "# ax3.set_ylim([0,0.47])\n",
    "# ax3.set_xlabel('Incidence')\n",
    "# ax3.set_ylabel('Screening')\n",
    "\n",
    "# ax4 = fig.add_subplot(224)\n",
    "# ax4.fill_betweenx([0,1], percentile(inc_f, 2.5), percentile(inc_f, 97.5), facecolor='r', alpha=0.5)\n",
    "# ax4.fill_between([0,1], percentile(scr_f, 2.5), percentile(scr_f, 97.5), facecolor='r', alpha=0.5)\n",
    "# ax4.plot(inc_f, scr_f, '.r', markersize=1)\n",
    "# ax4.set_xlim([0,0.3])\n",
    "# ax4.set_ylim([0,0.47])\n",
    "# ax4.set_xlabel('Incidence')\n",
    "# ax4.set_ylabel('Screening')\n"
   ]
  },
  {
   "cell_type": "code",
   "execution_count": 15,
   "metadata": {
    "collapsed": false
   },
   "outputs": [
    {
     "data": {
      "text/plain": [
       "<matplotlib.text.Text at 0x10a01add0>"
      ]
     },
     "execution_count": 15,
     "metadata": {},
     "output_type": "execute_result"
    },
    {
     "data": {
      "image/png": "[encoded data removed]",
      "text/plain": [
       "<matplotlib.figure.Figure at 0x1098d66d0>"
      ]
     },
     "metadata": {},
     "output_type": "display_data"
    }
   ],
   "source": [
    "fig = plt.figure(figsize = (10,10))\n",
    "\n",
    "ax1 = fig.add_subplot(221)\n",
    "h_2012_m_15_19 = ax1.hist(prev_m_15_19, bins=20, normed=true, color='b')\n",
    "ax1.fill_betweenx([0,100], percentile(prev_m_15_19, 2.5), percentile(prev_m_15_19, 97.5), facecolor='b', alpha=0.5)\n",
    "ax1.errorbar(0.001, 25, xerr=[[0],[0.022-0.001]], ecolor='b', capsize=10)\n",
    "ax1.set_xlabel('Prevalence')\n",
    "ax1.set_xlim(0,0.1)\n",
    "ax1.set_ylim(0,60)\n",
    "ax1.set_title('Sexually active men, 15-24 years')\n",
    "\n",
    "ax2 = fig.add_subplot(222)\n",
    "h_2012_f_15_19 = ax2.hist(prev_f_15_19, range=[min(prev_f_15_19),max(prev_f_15_19)], bins=20, normed=true, color='r')\n",
    "ax2.fill_betweenx([0,100], percentile(prev_f_15_19, 2.5), percentile(prev_f_15_19, 97.5), facecolor='r', alpha=0.5)\n",
    "ax2.errorbar(0.009, 20, xerr=[[0],[0.058-0.009]], ecolor='r', capsize=10)\n",
    "ax2.errorbar(0.025, 25, xerr=[[0],[0.086-0.025]], ecolor='r', capsize=10)\n",
    "ax2.set_xlabel('Prevalence')\n",
    "ax2.set_xlim(0,0.1)\n",
    "ax2.set_ylim(0,60)\n",
    "ax2.set_title('Sexually active women, 15-24 years')\n",
    "\n",
    "ax3 = fig.add_subplot(223)\n",
    "h_2012_m_20_24 = ax3.hist(prev_m_20_24, bins=20, normed=true, color='blue')\n",
    "ax3.fill_betweenx([0,100], percentile(prev_m_20_24, 2.5), percentile(prev_m_20_24, 97.5), facecolor='b', alpha=0.5)\n",
    "ax3.errorbar(0.022, 30, xerr=[[0],[0.052-0.022]], ecolor='blue', capsize=10)\n",
    "ax3.set_xlabel('Prevalence')\n",
    "ax3.set_xlim(0,0.1)\n",
    "ax3.set_ylim(0,60)\n",
    "ax3.set_title('Sexually active men, 20-24 years')\n",
    "\n",
    "ax4 = fig.add_subplot(224)\n",
    "h_2012_f_20_24 = ax4.hist(prev_f_20_24, range=[min(prev_f_20_24),max(prev_f_20_24)], bins=20, normed=true, color='r')\n",
    "ax4.fill_betweenx([0,100], percentile(prev_f_20_24, 2.5), percentile(prev_f_20_24, 97.5), facecolor='r', alpha=0.5)\n",
    "ax4.errorbar(0.017, 30, xerr=[[0],[0.042-0.017]], ecolor='r', capsize=10)\n",
    "ax4.set_xlabel('Prevalence')\n",
    "ax4.set_xlim(0,0.1)\n",
    "ax4.set_ylim(0,60)\n",
    "ax4.set_title('Sexually active women, 20-24 years')\n"
   ]
  },
  {
   "cell_type": "markdown",
   "metadata": {},
   "source": [
    "Although the data does not report the number of diagnoses that were in symptomatic and asymptomatic cases, we can examine the inferences which would have followed in different situations."
   ]
  },
  {
   "cell_type": "code",
   "execution_count": 16,
   "metadata": {
    "collapsed": true
   },
   "outputs": [],
   "source": [
    "# # data in men: testing and diagnosis rates, per person per year\n",
    "# diag_rate_m_15_19 = random.gamma(15213, 1, size=n_sample)/pop_active_m_15_19\n",
    "# diag_rate_m_20_24 = random.gamma(33174, 1, size=n_sample)/pop_active_m_20_24\n",
    "# test_rate_m_15_19 = random.gamma(232668, 1, size=n_sample)/pop_active_m_15_19\n",
    "# test_rate_m_20_24 = random.gamma(334240, 1, size=n_sample)/pop_active_m_20_24\n",
    "# diag_rate_f_15_19 = random.gamma(42874, 1, size=n_sample)/pop_active_f_15_19\n",
    "# diag_rate_f_20_24 = random.gamma(45227, 1, size=n_sample)/pop_active_f_20_24\n",
    "# test_rate_f_15_19 = random.gamma(520358, 1, size=n_sample)/pop_active_f_15_19\n",
    "# test_rate_f_20_24 = random.gamma(685538, 1, size=n_sample)/pop_active_f_20_24\n"
   ]
  },
  {
   "cell_type": "code",
   "execution_count": 38,
   "metadata": {
    "collapsed": false
   },
   "outputs": [
    {
     "data": {
      "text/plain": [
       "<matplotlib.text.Text at 0x10b1d1b90>"
      ]
     },
     "execution_count": 38,
     "metadata": {},
     "output_type": "execute_result"
    },
    {
     "data": {
      "image/png": "[encoded data removed]",
      "text/plain": [
       "<matplotlib.figure.Figure at 0x107e546d0>"
      ]
     },
     "metadata": {},
     "output_type": "display_data"
    }
   ],
   "source": [
    "# men first...\n",
    "prev_m = zeros(n_sample)\n",
    "inc_m = zeros(n_sample)\n",
    "scr_m = zeros(n_sample)\n",
    "p_symp_m = zeros(n_sample)\n",
    "\n",
    "# don't allow all symptomatic or all asymptomatic - messes with gamma distributions\n",
    "sample_symp = ceil(15212*random.uniform(size = n_sample))\n",
    "diag_rate_symp_m_15_19 = random.gamma(sample_symp, 1, size=n_sample)/pop_active_m_15_19\n",
    "\n",
    "sample_asymp = 15213 - sample_symp\n",
    "diag_rate_asymp_m_15_19 = random.gamma(sample_asymp, 1, size=n_sample)/pop_active_m_15_19\n",
    "\n",
    "for i in xrange(n_sample):\n",
    "    [inc_m[i], scr_m[i], p_symp_m[i]] = fsolve(lambda x: test_diag_sym_asym_fun(concatenate([\n",
    "                    x, array([\n",
    "                            sc_m[i], # rate of self-clear \n",
    "                            att_symp[i],\n",
    "                            p_true_pos_m[i], \n",
    "                            p_false_pos_m[i]\n",
    "                        ])])) - array([test_rate_m_15_19[i],diag_rate_symp_m_15_19[i],diag_rate_asymp_m_15_19[i]]), \n",
    "                                               [0.09, 0.1, 0.1])\n",
    "    prev_m[i] = dyn_fun(inc_m[i]*(1-p_symp_m[i]), sc_m[i] + scr_m[i]*p_true_pos_m[i], inc_m[i]*p_symp_m[i], sc_m[i] + att_symp[i]*p_true_pos_m[i])\n",
    "\n",
    "# ... then women\n",
    "prev_f = zeros(n_sample)\n",
    "inc_f = zeros(n_sample)\n",
    "scr_f = zeros(n_sample)\n",
    "p_symp_f = zeros(n_sample)\n",
    "\n",
    "# don't allow all symptomatic or all asymptomatic - messes with gamma distributions\n",
    "sample_symp = ceil(42873*random.uniform(size = n_sample))\n",
    "diag_rate_symp_f_15_19 = random.gamma(sample_symp, 1, size=n_sample)/pop_active_f_15_19\n",
    "\n",
    "sample_asymp = 42874 - sample_symp\n",
    "diag_rate_asymp_f_15_19 = random.gamma(sample_asymp, 1, size=n_sample)/pop_active_f_15_19\n",
    "\n",
    "for i in xrange(n_sample):\n",
    "    [inc_f[i], scr_f[i], p_symp_f[i]] = fsolve(lambda x: test_diag_sym_asym_fun(concatenate([\n",
    "                    x, array([\n",
    "                            sc_f[i], # rate of self-clear \n",
    "                            att_symp[i],\n",
    "                            p_true_pos_f[i], \n",
    "                            p_false_pos_f[i]\n",
    "                        ])])) - array([test_rate_f_15_19[i],diag_rate_symp_f_15_19[i],diag_rate_asymp_f_15_19[i]]), \n",
    "                                               [0.09, 0.1, 0.1])\n",
    "    prev_f[i] = dyn_fun(inc_f[i]*(1-p_symp_f[i]), sc_f[i] + scr_f[i]*p_true_pos_f[i], inc_f[i]*p_symp_f[i], sc_f[i] + att_symp[i]*p_true_pos_f[i])\n",
    "\n",
    "    \n",
    "fig = plt.figure(figsize = (10,3))\n",
    "\n",
    "ax1 = fig.add_subplot(121)\n",
    "ax1.plot(sample_symp, prev_m, '.', alpha = 0.1)\n",
    "ax1.fill_between([0,20000], 0.015, 0.034, facecolor='b', alpha=0.3)\n",
    "#ax1.text(0.34, 0.062, '20-24 years', rotation = 'vertical', ha='center', va='bottom')\n",
    "#ax1.set_title('Sexually active men, 15-24 years')\n",
    "ax1.set_ylabel('Prevalence')\n",
    "\n",
    "# ax2 = fig.add_subplot(322)\n",
    "# ax2.plot(sample_unif, prev_f, '.r', alpha = 0.1)\n",
    "# ax2.fill_between([0,1], 0.017, 0.042, facecolor='r', alpha=0.3)\n",
    "# #ax2.text(0.34, 0.052, '20-24 years', rotation = 'vertical', ha='center', va='bottom')\n",
    "# #ax2.set_title('Sexually active women, 15-24 years')\n",
    "\n"
   ]
  },
  {
   "cell_type": "markdown",
   "metadata": {},
   "source": [
    "Inferred prevalence is very sensitive to the proportion of infections which are asymptomatic, especially where this is a large fraction. Thus, if the proportion asymptomatic was overestimated (which it probably was, since treatment seeking generally enriches this proportion in a population), prevalence would also be biased upwards. This may explain the earlier result. Recording the proportion of diagnoses which are symptomatic would constrain this parameter and improve the accuracy of estimates. It may also improve confidence, though this will depend on the exact parameter values.\n",
    "\n",
    "How would knowing the number of diagnoses which were symptomatic have helped us? Suppose, for example, that we knew that only 8000 of the 48387 diagnoses in men and only 8000 of the 88101 in women were symptomatic. This extra piece of information allows more accurate inference of the incidence, screening and prevalence and also allows us to estimate the proportion of incident infections which are asymptomatic."
   ]
  },
  {
   "cell_type": "code",
   "execution_count": 51,
   "metadata": {
    "collapsed": false
   },
   "outputs": [],
   "source": [
    "# # rates of symptomatic and asymptomatic diagnoses, per person per year (proportion symptomatic is made up..)\n",
    "# diag_rate_symp_m = random.gamma(20000, 1, size=n_sample)/pop_active_m\n",
    "# diag_rate_asymp_m = random.gamma(28387, 1, size=n_sample)/pop_active_m\n",
    "\n",
    "# diag_rate_symp_f = random.gamma(40000, 1, size=n_sample)/pop_active_f\n",
    "# diag_rate_asymp_f = random.gamma(48101, 1, size=n_sample)/pop_active_f\n",
    "\n",
    "# rates of symptomatic and asymptomatic diagnoses, per person per year (from below)\n",
    "# diag_rate_symp_m = random.gamma(0.021*pop_active_m, 1, size=n_sample)/pop_active_m\n",
    "# diag_rate_asymp_m = random.gamma(0.018*pop_active_m, 1, size=n_sample)/pop_active_m\n",
    "\n",
    "# diag_rate_symp_f = random.gamma(0.021*pop_active_f, 1, size=n_sample)/pop_active_f\n",
    "# diag_rate_asymp_f = random.gamma(0.018*pop_active_f, 1, size=n_sample)/pop_active_f\n",
    "\n",
    "diag_rate_symp_m = diag_rate_m*0.41\n",
    "diag_rate_asymp_m = diag_rate_m*(1-0.41)\n",
    "\n",
    "diag_rate_symp_f = diag_rate_f*0.41\n",
    "diag_rate_asymp_f = diag_rate_f*(1-0.41)"
   ]
  },
  {
   "cell_type": "code",
   "execution_count": 52,
   "metadata": {
    "collapsed": false
   },
   "outputs": [],
   "source": [
    "# men first...\n",
    "prev_m = zeros(n_sample)\n",
    "inc_m = zeros(n_sample)\n",
    "prop_asymp_m = zeros(n_sample)\n",
    "scr_m = zeros(n_sample)\n",
    "\n",
    "for i in xrange(n_sample):\n",
    "    [inc_m[i], scr_m[i], prop_asymp_m[i]] = fsolve(lambda x: test_diag_sym_asym_fun(concatenate([\n",
    "                    x, array([\n",
    "                            sc_m[i], # rate of self-clear \n",
    "                            att_symp[i],\n",
    "                            p_true_pos_m[i], \n",
    "                            p_false_pos_m[i]\n",
    "                        ])])) - array([test_rate_m[i],diag_rate_symp_m[i],diag_rate_asymp_m[i]]), [0.09, 0.25,0.9])\n",
    "    prev_m[i] = dyn_fun(inc_m[i]*prop_asymp_m[i], sc_m[i] + scr_m[i]*p_true_pos_m[i], inc_m[i]*(1-prop_asymp_m[i]), sc_m[i] + att_symp[i]*p_true_pos_m[i])"
   ]
  },
  {
   "cell_type": "code",
   "execution_count": 53,
   "metadata": {
    "collapsed": false
   },
   "outputs": [],
   "source": [
    "# ...then women\n",
    "prev_f = zeros(n_sample)\n",
    "inc_f = zeros(n_sample)\n",
    "prop_asymp_f = zeros(n_sample)\n",
    "scr_f = zeros(n_sample)\n",
    "\n",
    "for i in xrange(n_sample):\n",
    "    [inc_f[i], scr_f[i], prop_asymp_f[i]] = fsolve(lambda x: test_diag_sym_asym_fun(concatenate([\n",
    "                    x, array([\n",
    "                            sc_f[i], # rate of self-clear \n",
    "                            att_symp[i],\n",
    "                            p_true_pos_f[i], \n",
    "                            p_false_pos_f[i]\n",
    "                        ])])) - array([test_rate_f[i],diag_rate_symp_f[i],diag_rate_asymp_m[i]]), [0.09, 0.25,0.99])\n",
    "    prev_f[i] = dyn_fun(inc_f[i]*prop_asymp_f[i], sc_f[i] + scr_f[i]*p_true_pos_f[i], inc_f[i]*(1-prop_asymp_f[i]), sc_f[i] + att_symp[i]*p_true_pos_f[i])"
   ]
  },
  {
   "cell_type": "code",
   "execution_count": 54,
   "metadata": {
    "collapsed": false
   },
   "outputs": [
    {
     "data": {
      "text/plain": [
       "(0.1, 0.5)"
      ]
     },
     "execution_count": 54,
     "metadata": {},
     "output_type": "execute_result"
    },
    {
     "data": {
      "image/png": "[encoded data removed]",
      "text/plain": [
       "<matplotlib.figure.Figure at 0x1146484d0>"
      ]
     },
     "metadata": {},
     "output_type": "display_data"
    }
   ],
   "source": [
    "fig = plt.figure(figsize = (10,10))\n",
    "\n",
    "ax1 = fig.add_subplot(321)\n",
    "ax1.plot(prop_asymp_m, prev_m, '.', alpha = 0.01)\n",
    "ax1.fill_between([0.2,0.28], 0.001, 0.022, facecolor='b', alpha=0.1)\n",
    "ax1.fill_between([0.3,0.38], 0.022, 0.052, facecolor='b', alpha=0.1)\n",
    "ax1.text(0.24, 0.032, '18-19 years', rotation = 'vertical', ha='center', va='bottom')\n",
    "ax1.text(0.34, 0.062, '20-24 years', rotation = 'vertical', ha='center', va='bottom')\n",
    "ax1.fill_between([0,1], percentile(prev_m, 2.5), percentile(prev_m, 97.5), facecolor='b', alpha=0.2)\n",
    "ax1.set_title('Sexually active men, 15-24 years')\n",
    "ax1.set_ylabel('Prevalence')\n",
    "ax1.set_xlim([0,0.8])\n",
    "ax1.set_ylim([0,0.2])\n",
    "\n",
    "ax2 = fig.add_subplot(322)\n",
    "ax2.plot(prop_asymp_f, prev_f, '.r', alpha = 0.01)\n",
    "ax2.fill_between([0.1,0.18], 0.009, 0.058, facecolor='r', alpha=0.1)\n",
    "ax2.fill_between([0.2,0.28], 0.025, 0.086, facecolor='r', alpha=0.1)\n",
    "ax2.fill_between([0.3,0.38], 0.017, 0.042, facecolor='r', alpha=0.1)\n",
    "ax2.text(0.14, 0.068, '16-17 years', rotation = 'vertical', ha='center', va='bottom')\n",
    "ax2.text(0.24, 0.096, '18-19 years', rotation = 'vertical', ha='center', va='bottom')\n",
    "ax2.text(0.34, 0.052, '20-24 years', rotation = 'vertical', ha='center', va='bottom')\n",
    "ax2.fill_between([0,1], percentile(prev_f, 2.5), percentile(prev_f, 97.5), facecolor='r', alpha=0.2)\n",
    "ax2.set_title('Sexually active women, 15-24 years')\n",
    "ax2.set_xlim([0,0.8])\n",
    "ax2.set_ylim([0,0.2])\n",
    "\n",
    "ax3 = fig.add_subplot(323)\n",
    "ax3.plot(prop_asymp_m, inc_m, '.', alpha = 0.01)\n",
    "ax3.fill_between([0,1], percentile(inc_m, 2.5), percentile(inc_m, 97.5), facecolor='b', alpha=0.2)\n",
    "ax3.set_ylabel('Incidence')\n",
    "ax3.set_xlim([0,0.8])\n",
    "ax3.set_ylim([0,0.6])\n",
    "\n",
    "ax4 = fig.add_subplot(324)\n",
    "ax4.plot(prop_asymp_f, inc_f, '.r', alpha = 0.01)\n",
    "ax4.fill_between([0,1], percentile(inc_f, 2.5), percentile(inc_f, 97.5), facecolor='r', alpha=0.2)\n",
    "ax4.set_xlim([0,0.8])\n",
    "ax4.set_ylim([0,0.6])\n",
    "\n",
    "ax5 = fig.add_subplot(325)\n",
    "ax5.plot(prop_asymp_m, scr_m, '.', alpha = 0.01)\n",
    "ax5.fill_between([0,1], percentile(scr_m, 2.5), percentile(scr_m, 97.5), facecolor='b', alpha=0.2)\n",
    "ax5.set_xlabel('Proportion of infections symptomatic')\n",
    "ax5.set_ylabel('Screening')\n",
    "ax5.set_xlim([0,0.8])\n",
    "ax5.set_ylim([0.1,0.5])\n",
    "\n",
    "ax6 = fig.add_subplot(326)\n",
    "ax6.plot(prop_asymp_f, scr_f, '.r', alpha = 0.01)\n",
    "ax6.fill_between([0,1], percentile(scr_f, 2.5), percentile(scr_f, 97.5), facecolor='r', alpha=0.2)\n",
    "ax6.set_xlabel('Proportion of infections symptomatic')\n",
    "ax6.set_xlim([0,0.8])\n",
    "ax6.set_ylim([0.1,0.5])\n"
   ]
  },
  {
   "cell_type": "markdown",
   "metadata": {},
   "source": [
    "How does changing the incidence, screening and proportion of asymptomatic infections affect the three observations (tests, symptomatic diagnoses and asymptomatic diagnoses)."
   ]
  },
  {
   "cell_type": "code",
   "execution_count": 28,
   "metadata": {
    "collapsed": false
   },
   "outputs": [
    {
     "ename": "NameError",
     "evalue": "name 'widgets' is not defined",
     "output_type": "error",
     "traceback": [
      "\u001b[0;31m---------------------------------------------------------------------------\u001b[0m",
      "\u001b[0;31mNameError\u001b[0m                                 Traceback (most recent call last)",
      "\u001b[0;32m<ipython-input-28-065fc629a320>\u001b[0m in \u001b[0;36m<module>\u001b[0;34m()\u001b[0m\n\u001b[1;32m     15\u001b[0m \u001b[0;34m\u001b[0m\u001b[0m\n\u001b[1;32m     16\u001b[0m \u001b[0;31m# This should be executed in an IPython notebook!\u001b[0m\u001b[0;34m\u001b[0m\u001b[0;34m\u001b[0m\u001b[0m\n\u001b[0;32m---> 17\u001b[0;31m \u001b[0mwidgets\u001b[0m\u001b[0;34m.\u001b[0m\u001b[0minteract\u001b[0m\u001b[0;34m(\u001b[0m\u001b[0mplt_comp\u001b[0m\u001b[0;34m,\u001b[0m \u001b[0minc\u001b[0m\u001b[0;34m=\u001b[0m\u001b[0;34m(\u001b[0m\u001b[0;36m0\u001b[0m\u001b[0;34m,\u001b[0m \u001b[0;36m0.3\u001b[0m\u001b[0;34m,\u001b[0m\u001b[0;36m0.01\u001b[0m\u001b[0;34m)\u001b[0m\u001b[0;34m,\u001b[0m \u001b[0mp_symp\u001b[0m\u001b[0;34m=\u001b[0m\u001b[0;34m(\u001b[0m\u001b[0;36m0\u001b[0m\u001b[0;34m,\u001b[0m\u001b[0;36m0.5\u001b[0m\u001b[0;34m,\u001b[0m\u001b[0;36m0.01\u001b[0m\u001b[0;34m)\u001b[0m\u001b[0;34m)\u001b[0m\u001b[0;34m;\u001b[0m\u001b[0;34m\u001b[0m\u001b[0m\n\u001b[0m",
      "\u001b[0;31mNameError\u001b[0m: name 'widgets' is not defined"
     ]
    }
   ],
   "source": [
    "def plt_comp(inc, p_symp):\n",
    "    S = S_fun(inc*(1-p_symp), sc_m[0] + linspace(0,0.5,100)*p_true_pos_m[0], inc*p_symp, sc_m[0] + att_symp[0]*p_true_pos_m[0])\n",
    "    I = I_fun(inc*(1-p_symp), sc_m[0] + linspace(0,0.5,100)*p_true_pos_m[0], inc*p_symp, sc_m[0] + att_symp[0]*p_true_pos_m[0])\n",
    "    A = A_fun(inc*(1-p_symp), sc_m[0] + linspace(0,0.5,100)*p_true_pos_m[0], inc*p_symp, sc_m[0] + att_symp[0]*p_true_pos_m[0])\n",
    "    print S[0]\n",
    "#    fig=plt.figure()\n",
    "    plt.plot(linspace(0,0.5,100), S, 'k')\n",
    "    plt.plot(linspace(0,0.5,100), I, 'g')\n",
    "    plt.plot(linspace(0,0.5,100), A, 'm')\n",
    "    plt.xlabel('Screening rate')\n",
    "    \n",
    "#    print S\n",
    "  \n",
    "# from IPython.html import widgets\n",
    "\n",
    "# This should be executed in an IPython notebook!\n",
    "widgets.interact(plt_comp, inc=(0, 0.3,0.01), p_symp=(0,0.5,0.01));"
   ]
  },
  {
   "cell_type": "code",
   "execution_count": 246,
   "metadata": {
    "collapsed": false
   },
   "outputs": [
    {
     "name": "stdout",
     "output_type": "stream",
     "text": [
      "100\n"
     ]
    },
    {
     "data": {
      "text/plain": [
       "None"
      ]
     },
     "metadata": {},
     "output_type": "display_data"
    },
    {
     "data": {
      "image/png": "[encoded data removed]",
      "text/plain": [
       "<matplotlib.figure.Figure at 0x117a17490>"
      ]
     },
     "metadata": {},
     "output_type": "display_data"
    }
   ],
   "source": [
    "def plt_3obs(inc, p_symp):\n",
    "    sol = test_diag_sym_asym_fun([inc, linspace(0,0.5,100), p_symp, sc_m[0], att_symp[0], p_true_pos_m[0], p_false_pos_m[0]])\n",
    "    print size(sol[0])\n",
    "#    fig=plt.figure()\n",
    "    plt.plot(linspace(0,0.5,100), sol[0], 'k')\n",
    "    plt.plot(linspace(0,0.5,100), sol[1], 'g')\n",
    "    plt.plot(linspace(0,0.5,100), sol[2], 'm')\n",
    "    plt.xlabel('Screening rate')\n",
    "  \n",
    "from IPython.html import widgets\n",
    "\n",
    "# This should be executed in an IPython notebook!\n",
    "widgets.interact(plt_3obs, inc=(0, 0.3,0.01), p_symp=(0,0.5,0.01));"
   ]
  },
  {
   "cell_type": "markdown",
   "metadata": {
    "collapsed": true
   },
   "source": [
    "expect total diagnoses 0.02 when p_ASYMP =  0.9 and incidence 0.08\n",
    "\n",
    "Let's simulate what you would expect to observe if incidence is 0.08, screening is 0.19 and p_asymp = 0.7."
   ]
  },
  {
   "cell_type": "code",
   "execution_count": 247,
   "metadata": {
    "collapsed": false
   },
   "outputs": [
    {
     "data": {
      "text/plain": [
       "[0.21134785037286008, 0.021213219763300609, 0.0086227536823208772]"
      ]
     },
     "execution_count": 247,
     "metadata": {},
     "output_type": "execute_result"
    }
   ],
   "source": [
    "test_diag_sym_asym_fun([0.08, 0.19, 0.3, sc_m[0], att_symp[0], p_true_pos_m[0], p_false_pos_m[0]])\n"
   ]
  },
  {
   "cell_type": "markdown",
   "metadata": {},
   "source": [
    "ie testing rate 0.211, symptomatic diagnoses 0.021, asymptomatic diagnoses 0.018"
   ]
  },
  {
   "cell_type": "code",
   "execution_count": null,
   "metadata": {
    "collapsed": true
   },
   "outputs": [],
   "source": []
  }
 ],
 "metadata": {
  "kernelspec": {
   "display_name": "Python 2",
   "language": "python",
   "name": "python2"
  },
  "language_info": {
   "codemirror_mode": {
    "name": "ipython",
    "version": 2
   },
   "file_extension": ".py",
   "mimetype": "text/x-python",
   "name": "python",
   "nbconvert_exporter": "python",
   "pygments_lexer": "ipython2",
   "version": "2.7.10"
  }
 },
 "nbformat": 4,
 "nbformat_minor": 0
}
