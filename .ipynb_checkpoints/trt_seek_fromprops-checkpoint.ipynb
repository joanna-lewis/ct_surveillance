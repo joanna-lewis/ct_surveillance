{
 "cells": [
  {
   "cell_type": "code",
   "execution_count": 34,
   "metadata": {
    "collapsed": false
   },
   "outputs": [
    {
     "data": {
      "text/plain": [
       "array([  0.00000000e+000,   0.00000000e+000,   6.94282851e-310,\n",
       "         6.94282851e-310,   6.94282851e-310])"
      ]
     },
     "execution_count": 34,
     "metadata": {},
     "output_type": "execute_result"
    }
   ],
   "source": [
    "empty(5)"
   ]
  },
  {
   "cell_type": "code",
   "execution_count": 44,
   "metadata": {
    "collapsed": false
   },
   "outputs": [],
   "source": [
    "# get beta distributions corresponding to 95% CIs reported in Mercer 2007\n",
    "\n",
    "from numpy import *\n",
    "from scipy.stats import beta\n",
    "from scipy.optimize import fsolve\n",
    "\n",
    "a = empty(5)\n",
    "b = empty(5)\n",
    "\n",
    "# < 1 week\n",
    "[a[0], b[0]] = fsolve(\n",
    "    lambda x: array(beta.interval(0.95, x[0], x[1], loc=0, scale=1))\n",
    "    - (0.144, 0.442),\n",
    "    [1,1]\n",
    "    )\n",
    "\n",
    "# 7-13 days\n",
    "[a[1], b[1]] = fsolve(\n",
    "    lambda x: array(beta.interval(0.95, x[0], x[1], loc=0, scale=1))\n",
    "    - (0.061, 0.302),\n",
    "    [1,1]\n",
    "    )\n",
    "\n",
    "# 14-27 days\n",
    "[a[2], b[2]] = fsolve(\n",
    "    lambda x: array(beta.interval(0.95, x[0], x[1], loc=0, scale=1))\n",
    "    - (0.133, 0.310),\n",
    "    [1,1]\n",
    "    )\n",
    "\n",
    "# 28-41 days\n",
    "[a[3], b[3]] = fsolve(\n",
    "    lambda x: array(beta.interval(0.95, x[0], x[1], loc=0, scale=1))\n",
    "    - (0.085, 0.299),\n",
    "    [1,1]\n",
    "    )\n",
    "\n",
    "# 42 days and over\n",
    "[a[4], b[4]] = fsolve(\n",
    "    lambda x: array(beta.interval(0.95, x[0], x[1], loc=0, scale=1))\n",
    "    - (0.055, 0.564),\n",
    "    [1,1]\n",
    "    )\n"
   ]
  },
  {
   "cell_type": "code",
   "execution_count": 46,
   "metadata": {
    "collapsed": false
   },
   "outputs": [
    {
     "name": "stdout",
     "output_type": "stream",
     "text": [
      "[ 0.5034147   0.24998834  0.1857869   0.04581449  0.01499558]\n",
      "[ 0.1340404   2.11925441  7.8017892   0.07731368  0.17408397]\n"
     ]
    }
   ],
   "source": [
    "tps = array([0., 7., 14., 28., 42., Inf])\n",
    "theta = exp(-0.1*tps[:5]) - exp(-0.1*tps[1:])\n",
    "print theta\n",
    "print beta.pdf(theta, a, b, loc=0, scale=1)"
   ]
  },
  {
   "cell_type": "code",
   "execution_count": 103,
   "metadata": {
    "collapsed": false
   },
   "outputs": [
    {
     "name": "stdout",
     "output_type": "stream",
     "text": [
      "0.220090909091\n",
      "14.2101171412\n"
     ]
    }
   ],
   "source": [
    "# Metropolis-Hastings to get a sample for rate of treatment\n",
    "\n",
    "n_sample = 10000\n",
    "\n",
    "i = 0\n",
    "att_symp = empty(n_sample+1000) # testing rate per person per year. Allow 1000 extra samples for burn-in\n",
    "ll = empty(n_sample+1000) # log-likelihood\n",
    "old = 0.04 # starting sample value\n",
    "new = 0.04 # starting sample value\n",
    "\n",
    "# simulate probabilities corresponding to PATSI data\n",
    "\n",
    "# proportion expected in each time window\n",
    "tps = array([0., 7., 14., 28., 42., Inf])\n",
    "simp_new = exp(-new*tps[:5]) - exp(-new*tps[1:])\n",
    "\n",
    "acc=0.\n",
    "while i < n_sample+1000: # to do samples for p_test_symp\n",
    "    \n",
    "    new = random.normal(old, 0.05) # generate a sample from normal distribution\n",
    "    \n",
    "    if new < 0:\n",
    "        att_symp[i] = old # reject\n",
    "        ll[i] = -1e10\n",
    "    else:\n",
    "        simp_old = exp(-old*tps[:5]) - exp(-old*tps[1:])\n",
    "        simp_new = exp(-new*tps[:5]) - exp(-new*tps[1:])\n",
    "\n",
    "        if sum(simp_new > 0) != len(tps) - 1:\n",
    "            att_symp[i] = old # reject\n",
    "            ll[i] = -1e10\n",
    "        else:\n",
    "            # simulate probabilities corresponding to the PATSI data\n",
    "            log_ratio = sum(beta.logpdf(simp_new, a, b, loc=0, scale=1)) - sum(beta.logpdf(simp_old, a, b, loc=0, scale=1))\n",
    "    \n",
    "            if log(random.uniform(0,1)) <  log_ratio:\n",
    "                att_symp[i] = new # accept\n",
    "                ll[i] = sum(beta.logpdf(simp_new, a, b, loc=0, scale=1))\n",
    "                old = new\n",
    "                acc = acc+1\n",
    "            else:\n",
    "                att_symp[i] = old # reject\n",
    "                ll[i] = sum(beta.logpdf(simp_old, a, b, loc=0, scale=1))\n",
    "        \n",
    "    i = i+1\n",
    "    \n",
    "att_symp = att_symp[1000:] # remove burn-in samples\n",
    "ll = ll[1000:] # log-likelihood\n",
    "    \n",
    "print acc/(n_sample+1000) # print the proportion of samples accepted\n",
    "print mean(att_symp)*365.25"
   ]
  },
  {
   "cell_type": "code",
   "execution_count": 66,
   "metadata": {
    "collapsed": false
   },
   "outputs": [
    {
     "data": {
      "text/plain": [
       "[<matplotlib.lines.Line2D at 0x10a6a1d10>]"
      ]
     },
     "execution_count": 66,
     "metadata": {},
     "output_type": "execute_result"
    },
    {
     "data": {
      "image/png": "[encoded data removed]",
      "text/plain": [
       "<matplotlib.figure.Figure at 0x109bd6410>"
      ]
     },
     "metadata": {},
     "output_type": "display_data"
    }
   ],
   "source": [
    "import matplotlib.pyplot as plt\n",
    "\n",
    "%matplotlib inline\n",
    "\n",
    "plt.plot(att_symp)"
   ]
  },
  {
   "cell_type": "code",
   "execution_count": 107,
   "metadata": {
    "collapsed": false
   },
   "outputs": [
    {
     "data": {
      "image/png": "[encoded data removed]",
      "text/plain": [
       "<matplotlib.figure.Figure at 0x10c0d7bd0>"
      ]
     },
     "metadata": {},
     "output_type": "display_data"
    }
   ],
   "source": [
    "h1=plt.hist(att_symp, bins=20, normed=True)"
   ]
  },
  {
   "cell_type": "code",
   "execution_count": 102,
   "metadata": {
    "collapsed": false
   },
   "outputs": [
    {
     "data": {
      "text/plain": [
       "[<matplotlib.lines.Line2D at 0x10c0f2750>]"
      ]
     },
     "execution_count": 102,
     "metadata": {},
     "output_type": "execute_result"
    },
    {
     "data": {
      "image/png": "[encoded data removed]",
      "text/plain": [
       "<matplotlib.figure.Figure at 0x10b82cb90>"
      ]
     },
     "metadata": {},
     "output_type": "display_data"
    }
   ],
   "source": [
    "plt.plot(range(50),median(att_symp)*exp(-median(att_symp)*array(range(50))),'b')\n",
    "#plt.plot(range(50),percentile(att_symp, 2.5)*exp(-percentile(att_symp, 2.5)*array(range(50))),'b--')\n",
    "#plt.plot(range(50),percentile(att_symp, 97.5)*exp(-percentile(att_symp, 97.5)*array(range(50))),'b--')\n",
    "\n",
    "plt.ylim([0,0.1])\n",
    "plt.plot([0,7,7,14,14,28,28,42,42,50], [0.267/7, 0.267/7, 0.144/7, 0.144/7, 0.208/14, 0.208/14, 0.166/14, 0.166/14, 0.215, 0.215], 'r')\n",
    "plt.plot([0,7,7,14,14,28,28,42,42,50], [0.144/7, 0.144/7, 0.061/7, 0.061/7, 0.133/14, 0.133/14, 0.085/14, 0.085/14, 0.055, 0.055], 'r--')\n",
    "plt.plot([0,7,7,14,14,28,28,42,42,50], [0.442/7, 0.442/7, 0.302/7, 0.302/7, 0.310/14, 0.310/14, 0.299/14, 0.299/14, 0.564, 0.564], 'r--')"
   ]
  },
  {
   "cell_type": "code",
   "execution_count": 109,
   "metadata": {
    "collapsed": false
   },
   "outputs": [],
   "source": [
    "# now the old method. Read in data:\n",
    "# women\n",
    "import csv\n",
    "\n",
    "with open('../../../data/MSTIC/mstic_timedata_f.csv', 'rU') as csvfile:\n",
    "    timereader = csv.reader(csvfile, delimiter=',')\n",
    "    times = [int(row[0]) for row in timereader]\n",
    "times_f = times[0:43]\n",
    "with open('../../../data/MSTIC/mstic_timedata_f.csv', 'rU') as csvfile:\n",
    "    timereader = csv.reader(csvfile, delimiter=',')\n",
    "    prop = [int(row[1]) for row in timereader]\n",
    "prop_f = prop[0:43]\n",
    "with open('../../../data/MSTIC/mstic_timedata_f.csv', 'rU') as csvfile:\n",
    "    timereader = csv.reader(csvfile, delimiter=',')\n",
    "    cumprop = [int(row[2]) for row in timereader]\n",
    "cumprop_f = cumprop[0:43]\n"
   ]
  },
  {
   "cell_type": "code",
   "execution_count": 111,
   "metadata": {
    "collapsed": false
   },
   "outputs": [
    {
     "name": "stdout",
     "output_type": "stream",
     "text": [
      "0.343181818182\n",
      "12.4012649116\n"
     ]
    }
   ],
   "source": [
    "%run multinomial_pmf.py\n",
    "\n",
    "# Metropolis-Hastings to get a sample for rate of treatment in women\n",
    "\n",
    "i = 0\n",
    "att_symp_f = empty(n_sample+1000) # testing rate per person per year\n",
    "ll_f = empty(n_sample+1000) # log-likelihood\n",
    "old = 15 # starting sample value\n",
    "new = 15 # starting sample value\n",
    "# simulate probabilities corresponding to MSTIC data\n",
    "simp_new = exp(-array(times_f)*new/365.25) - append(exp(-array(times_f[1:len(times_f)])*new/365.25),0)\n",
    "\n",
    "acc=0.\n",
    "while i < n_sample+1000: # to do samples for p_test_symp\n",
    "    \n",
    "    new = random.normal(old, 2) # generate a sample from normal distribution\n",
    "    \n",
    "    if new < 0:\n",
    "        att_symp_f[i] = old # reject\n",
    "        ll_f[i] = -1e10\n",
    "    else:\n",
    "        simp_old = exp(-array(times_f)*old/365.25) - append(exp(-array(times_f[1:len(times_f)])*old/365.25), 0)\n",
    "        simp_new = exp(-array(times_f)*new/365.25) - append(exp(-array(times_f[1:len(times_f)])*new/365.25), 0)\n",
    "\n",
    "        if sum(simp_new > 0) != len(times_f):\n",
    "            att_symp_f[i] = old # reject\n",
    "            ll_f[i] = -1e10\n",
    "        else:\n",
    "            # simulate probabilities corresponding to the MSTIC data\n",
    "            m_old = Multinomial(simp_old)\n",
    "            m_new = Multinomial(simp_new)\n",
    "            log_ratio = m_new.log_pmf(prop_f) - m_old.log_pmf(prop_f)\n",
    "    \n",
    "            if log(random.uniform(0,1)) <  log_ratio:\n",
    "                att_symp_f[i] = new # accept\n",
    "                ll_f[i] = m_new.log_pmf(prop_f)\n",
    "                old = new\n",
    "                acc = acc+1\n",
    "            else:\n",
    "                att_symp_f[i] = old # reject\n",
    "                ll_f[i] = m_old.log_pmf(prop_f)\n",
    "        \n",
    "    i = i+1\n",
    "    \n",
    "att_symp_f = att_symp_f[1000:] # remove burn-in samples\n",
    "ll_f = ll_f[1000:] # log-likelihood\n",
    "    \n",
    "print acc/(n_sample+1000) # print the proportion of samples accepted\n",
    "print mean(att_symp_f)"
   ]
  },
  {
   "cell_type": "code",
   "execution_count": 112,
   "metadata": {
    "collapsed": false
   },
   "outputs": [
    {
     "data": {
      "image/png": "[encoded data removed]",
      "text/plain": [
       "<matplotlib.figure.Figure at 0x10c0fab50>"
      ]
     },
     "metadata": {},
     "output_type": "display_data"
    }
   ],
   "source": [
    "h2=plt.hist(att_symp_f, bins=20, normed=True)"
   ]
  },
  {
   "cell_type": "code",
   "execution_count": null,
   "metadata": {
    "collapsed": true
   },
   "outputs": [],
   "source": []
  }
 ],
 "metadata": {
  "kernelspec": {
   "display_name": "Python 2",
   "language": "python",
   "name": "python2"
  },
  "language_info": {
   "codemirror_mode": {
    "name": "ipython",
    "version": 2
   },
   "file_extension": ".py",
   "mimetype": "text/x-python",
   "name": "python",
   "nbconvert_exporter": "python",
   "pygments_lexer": "ipython2",
   "version": "2.7.10"
  }
 },
 "nbformat": 4,
 "nbformat_minor": 0
}
