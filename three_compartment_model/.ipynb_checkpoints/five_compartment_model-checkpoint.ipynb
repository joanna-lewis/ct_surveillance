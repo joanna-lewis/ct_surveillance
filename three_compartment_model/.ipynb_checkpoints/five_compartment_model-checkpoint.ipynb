{
 "cells": [
  {
   "cell_type": "markdown",
   "metadata": {},
   "source": [
    "# Chlamydia prevalence estimates with slower natural clearance\n",
    "\n",
    "A criticism of the original prevalence estimates was that they used a fast rate for the clearance of untreated infection. This notebook investigates the behaviour of prevalence estimates when duration of untreated infection follows a mixture-of-exponentials ditribution as proposed by Price _et al._ in _Statist. Med._ **32**:1547-1560 (2013).\n",
    "\n",
    "## The five-compartment model\n",
    "\n",
    "We use a five-compartment model, in which individuals are uninfected (U), infected-asymptomatic (A), infected-symptomatic (S), and infections can be either fast-clearing (f) or slow-clearing (s). The five compartments are denoted:\n",
    "* U: uninfected\n",
    "* Af: infected, asymptomatic, fast-clearing\n",
    "* As: infected, asymptomatic, slow-clearing\n",
    "* Sf: infected, symptomatic, fast-clearing\n",
    "* Ss: infected, asymptomatic, slow-clearing\n",
    "\n",
    "Begin by setting up and solving the ODE model:\n"
   ]
  },
  {
   "cell_type": "code",
   "execution_count": 1,
   "metadata": {
    "collapsed": false
   },
   "outputs": [
    {
     "name": "stdout",
     "output_type": "stream",
     "text": [
      "{As: alpha_AfU*alpha_SfU*alpha_SsU*alpha_UAs/(alpha_AfU*alpha_AsU*alpha_SfU*alpha_SsU + alpha_AfU*alpha_AsU*alpha_SfU*alpha_USs + alpha_AfU*alpha_AsU*alpha_SsU*alpha_USf + alpha_AfU*alpha_SfU*alpha_SsU*alpha_UAs + alpha_AsU*alpha_SfU*alpha_SsU*alpha_UAf), Af: alpha_AsU*alpha_SfU*alpha_SsU*alpha_UAf/(alpha_AfU*alpha_AsU*alpha_SfU*alpha_SsU + alpha_AfU*alpha_AsU*alpha_SfU*alpha_USs + alpha_AfU*alpha_AsU*alpha_SsU*alpha_USf + alpha_AfU*alpha_SfU*alpha_SsU*alpha_UAs + alpha_AsU*alpha_SfU*alpha_SsU*alpha_UAf), U: alpha_AfU*alpha_AsU*alpha_SfU*alpha_SsU/(alpha_AfU*alpha_AsU*alpha_SfU*alpha_SsU + alpha_AfU*alpha_AsU*alpha_SfU*alpha_USs + alpha_AfU*alpha_AsU*alpha_SsU*alpha_USf + alpha_AfU*alpha_SfU*alpha_SsU*alpha_UAs + alpha_AsU*alpha_SfU*alpha_SsU*alpha_UAf), Ss: alpha_AfU*alpha_AsU*alpha_SfU*alpha_USs/(alpha_AfU*alpha_AsU*alpha_SfU*alpha_SsU + alpha_AfU*alpha_AsU*alpha_SfU*alpha_USs + alpha_AfU*alpha_AsU*alpha_SsU*alpha_USf + alpha_AfU*alpha_SfU*alpha_SsU*alpha_UAs + alpha_AsU*alpha_SfU*alpha_SsU*alpha_UAf), Sf: alpha_AfU*alpha_AsU*alpha_SsU*alpha_USf/(alpha_AfU*alpha_AsU*alpha_SfU*alpha_SsU + alpha_AfU*alpha_AsU*alpha_SfU*alpha_USs + alpha_AfU*alpha_AsU*alpha_SsU*alpha_USf + alpha_AfU*alpha_SfU*alpha_SsU*alpha_UAs + alpha_AsU*alpha_SfU*alpha_SsU*alpha_UAf)}\n"
     ]
    }
   ],
   "source": [
    "from numpy import *\n",
    "from sympy import *\n",
    "\n",
    "##############################\n",
    "# function to calculate steady-state A, U and S\n",
    "##############################\n",
    "\n",
    "Af, As, U, Sf, Ss = symbols(\"Af As U Sf Ss\")\n",
    "alpha_UAf, alpha_UAs, alpha_AfU, alpha_AsU, alpha_USf, alpha_USs, alpha_SfU, alpha_SsU  = symbols(\"alpha_UAf alpha_UAs alpha_AfU alpha_AsU alpha_USf alpha_USs alpha_SfU alpha_SsU\")\n",
    "\n",
    "model_dyn = [\n",
    "    alpha_UAf*U - alpha_AfU*Af, # asymptomatic infected fast clearance\n",
    "    alpha_UAs*U - alpha_AsU*As, # asymptomatic infected slow clearance\n",
    "    alpha_AfU*Af + alpha_SfU*Sf + alpha_AsU*As + alpha_SsU*Ss - (alpha_UAf + alpha_UAs + alpha_USf + alpha_USs)*U, # uninfected\n",
    "    alpha_USf*U - alpha_SfU*Sf, # symptomatic infected fast clearance\n",
    "    alpha_USs*U - alpha_SsU*Ss, # symptomatic infected slow clearance\n",
    "    Af + As + U + Sf + Ss - 1\n",
    "    ]\n",
    "\n",
    "sol_dyn = solve(model_dyn, Af, As, U, Sf, Ss)\n",
    "print sol_dyn"
   ]
  },
  {
   "cell_type": "code",
   "execution_count": 2,
   "metadata": {
    "collapsed": true
   },
   "outputs": [],
   "source": [
    "U_fun = lambdify((alpha_UAf, alpha_UAs, alpha_AfU, alpha_AsU, alpha_USf, alpha_USs, alpha_SfU, alpha_SsU), sol_dyn[U])\n",
    "Af_fun = lambdify((alpha_UAf, alpha_UAs, alpha_AfU, alpha_AsU, alpha_USf, alpha_USs, alpha_SfU, alpha_SsU), sol_dyn[Af])\n",
    "As_fun = lambdify((alpha_UAf, alpha_UAs, alpha_AfU, alpha_AsU, alpha_USf, alpha_USs, alpha_SfU, alpha_SsU), sol_dyn[As])\n",
    "Sf_fun = lambdify((alpha_UAf, alpha_UAs, alpha_AfU, alpha_AsU, alpha_USf, alpha_USs, alpha_SfU, alpha_SsU), sol_dyn[Sf])\n",
    "Ss_fun = lambdify((alpha_UAf, alpha_UAs, alpha_AfU, alpha_AsU, alpha_USf, alpha_USs, alpha_SfU, alpha_SsU), sol_dyn[Ss])\n",
    "dyn_fun = lambdify((alpha_UAf, alpha_UAs, alpha_AfU, alpha_AsU, alpha_USf, alpha_USs, alpha_SfU, alpha_SsU), 1 - sol_dyn[U])"
   ]
  },
  {
   "cell_type": "markdown",
   "metadata": {},
   "source": [
    "Now set up the observation model. There are two versions. The first returns two estimates: for the testing and diagnosis rates per person per year:"
   ]
  },
  {
   "cell_type": "code",
   "execution_count": 3,
   "metadata": {
    "collapsed": true
   },
   "outputs": [],
   "source": [
    "##############################\n",
    "# now the model for observed testing and diagnosis rates\n",
    "##############################\n",
    "\n",
    "tsym, dsym, ssym, test_sym, true_pos, false_pos = symbols(\"tsym dsym ssym test_sym true_pos false_pos\")\n",
    "\n",
    "model_test_diag = [\n",
    "    tsym - ( ssym + (1 - Af - As - U)*test_sym ), # total testing rate\n",
    "    dsym - ( (Af + As)*ssym*true_pos + U*ssym*false_pos + (1 - Af - As - U)*test_sym*true_pos ) # total diagnosis rate\n",
    "    ]\n",
    "\n",
    "sol_prev = solve(model_test_diag, ssym, U)\n",
    "sol_test_diag = solve(model_test_diag, tsym, dsym)\n",
    "test_fun = lambdify((Af, As, U, ssym, test_sym, true_pos, false_pos), sol_test_diag[tsym])\n",
    "diag_fun = lambdify((Af, As, U, ssym, test_sym, true_pos, false_pos), sol_test_diag[dsym])\n",
    "\n",
    "def test_diag_fun(parms):\n",
    "    # parms = (incidence, screening rate, proportion symptomatic, self-cure rate, testing rate in symptomatics, true positive rate, false positive rate, ...)\n",
    "    inc = parms[0]\n",
    "    scr = parms[1]\n",
    "    p_symp = parms[2]\n",
    "    p_fast = parms[3]\n",
    "    self_cure_f = parms[4]\n",
    "    self_cure_s = parms[5]\n",
    "    test_sym = parms[6]\n",
    "    true_pos = parms[7]\n",
    "    false_pos = parms[8]\n",
    "    \n",
    "    Af = Af_fun(inc*(1-p_symp)*p_fast, inc*(1-p_symp)*(1-p_fast), self_cure_f + scr*true_pos, self_cure_s + scr*true_pos, inc*p_symp*p_fast, inc*p_symp*(1-p_fast), self_cure_f + scr*true_pos + test_sym*true_pos, self_cure_s + scr*true_pos + test_sym*true_pos)\n",
    "    As = As_fun(inc*(1-p_symp)*p_fast, inc*(1-p_symp)*(1-p_fast), self_cure_f + scr*true_pos, self_cure_s + scr*true_pos, inc*p_symp*p_fast, inc*p_symp*(1-p_fast), self_cure_f + scr*true_pos + test_sym*true_pos, self_cure_s + scr*true_pos + test_sym*true_pos)\n",
    "    U = U_fun(inc*(1-p_symp)*p_fast, inc*(1-p_symp)*(1-p_fast), self_cure_f + scr*true_pos, self_cure_s + scr*true_pos, inc*p_symp*p_fast, inc*p_symp*(1-p_fast), self_cure_f + scr*true_pos + test_sym*true_pos, self_cure_s + scr*true_pos + test_sym*true_pos)\n",
    "    return [test_fun(Af, As, U, scr, test_sym, true_pos, false_pos), diag_fun(Af, As, U, scr, test_sym, true_pos, false_pos)]\n",
    "    "
   ]
  },
  {
   "cell_type": "markdown",
   "metadata": {},
   "source": [
    "The second observation model returns testing and diagnosis rates per year, and as a third output the prevalence of symptoms among those who are infected. "
   ]
  },
  {
   "cell_type": "code",
   "execution_count": 4,
   "metadata": {
    "collapsed": true
   },
   "outputs": [],
   "source": [
    "# write a different function, which returns also the prevalence of symptoms, amongst those infected\n",
    "def test_diag_prev_symp_fun(parms):\n",
    "    # parms = (incidence, screening rate, proportion symptomatic, self-cure rate, testing rate in symptomatics, true positive rate, false positive rate, ...)\n",
    "    inc = parms[0]\n",
    "    scr = parms[1]\n",
    "    p_symp = parms[2]\n",
    "    p_fast = parms[3]\n",
    "    self_cure_f = parms[4]\n",
    "    self_cure_s = parms[5]\n",
    "    test_sym = parms[6]\n",
    "    true_pos = parms[7]\n",
    "    false_pos = parms[8]\n",
    "    \n",
    "    Af = Af_fun(inc*(1-p_symp)*p_fast, inc*(1-p_symp)*(1-p_fast), self_cure_f + scr*true_pos, self_cure_s + scr*true_pos, inc*p_symp*p_fast, inc*p_symp*(1-p_fast), self_cure_f + scr*true_pos + test_sym*true_pos, self_cure_s + scr*true_pos + test_sym*true_pos)\n",
    "    As = As_fun(inc*(1-p_symp)*p_fast, inc*(1-p_symp)*(1-p_fast), self_cure_f + scr*true_pos, self_cure_s + scr*true_pos, inc*p_symp*p_fast, inc*p_symp*(1-p_fast), self_cure_f + scr*true_pos + test_sym*true_pos, self_cure_s + scr*true_pos + test_sym*true_pos)\n",
    "    U = U_fun(inc*(1-p_symp)*p_fast, inc*(1-p_symp)*(1-p_fast), self_cure_f + scr*true_pos, self_cure_s + scr*true_pos, inc*p_symp*p_fast, inc*p_symp*(1-p_fast), self_cure_f + scr*true_pos + test_sym*true_pos, self_cure_s + scr*true_pos + test_sym*true_pos)\n",
    "    return [\n",
    "        test_fun(Af, As, U, scr, test_sym, true_pos, false_pos), \n",
    "        diag_fun(Af, As, U, scr, test_sym, true_pos, false_pos),\n",
    "        (1 - Af - As - U)/(1 - U)]\n",
    "    "
   ]
  },
  {
   "cell_type": "markdown",
   "metadata": {},
   "source": [
    "## Sampling for chlamydia prevalence\n",
    "\n",
    "We are now ready to calculate chlamydia prevalence. Begin by generating samples for quantities common to all subsequent estimates:"
   ]
  },
  {
   "cell_type": "code",
   "execution_count": 5,
   "metadata": {
    "collapsed": true
   },
   "outputs": [],
   "source": [
    "from numpy import *\n",
    "from scipy.optimize import fsolve\n",
    "n_sample = 10000\n",
    "rs = random.RandomState(12345)"
   ]
  },
  {
   "cell_type": "code",
   "execution_count": 6,
   "metadata": {
    "collapsed": false
   },
   "outputs": [],
   "source": [
    "sc_f = 120*ones(n_sample) # rate of clearance for short infections, see Price et al.\n",
    "p_true_pos_f = rs.beta(129+1, 12+1, size=n_sample) # Low Health Technol Assess (2007): 129 of 141 infected samples tested +ve\n",
    "p_false_pos_f = rs.beta(4+1, 2323+1, size=n_sample) # Low Health Technol Assess (2007): 4 of 2327 uninfected samples tested +ve"
   ]
  },
  {
   "cell_type": "markdown",
   "metadata": {},
   "source": [
    "The clearance rate of slow infections and the proportion of infections which are fast-clearing have been sampled in using STAN, following the methods described in Price _et al._. They are read in here:"
   ]
  },
  {
   "cell_type": "code",
   "execution_count": 7,
   "metadata": {
    "collapsed": false
   },
   "outputs": [],
   "source": [
    "sc_s = empty(n_sample) # rate of clearance of slow infections\n",
    "p_fast = empty(n_sample) # proportion of infections clearing fast\n",
    "\n",
    "import csv\n",
    "with open('../chlamydia_two_exponentials_init0_130516.csv', 'rU') as f:\n",
    "    reader = csv.reader(f)\n",
    "    reader.next() # skip header row\n",
    "    i=0\n",
    "    for row in reader:\n",
    "        if i < n_sample:\n",
    "            #print row\n",
    "            sc_s[i] = row[0]\n",
    "            p_fast[i] = row[1]\n",
    "            i = i+1"
   ]
  },
  {
   "cell_type": "markdown",
   "metadata": {},
   "source": [
    "Sample for the rate of treatment seeking by symptomatic cases:"
   ]
  },
  {
   "cell_type": "code",
   "execution_count": 8,
   "metadata": {
    "collapsed": false
   },
   "outputs": [
    {
     "name": "stdout",
     "output_type": "stream",
     "text": [
      "0.225272727273\n",
      "14.4234720037\n",
      "[  8.34629731  22.57604008]\n"
     ]
    }
   ],
   "source": [
    "from scipy.stats import beta\n",
    "\n",
    "# Find beta distributions corresponding to 95% CIs reported in Mercer Sex. Transm. Infect. (2007) (see table above).\n",
    "\n",
    "a = empty(5)\n",
    "b = empty(5)\n",
    "\n",
    "# < 1 week\n",
    "[a[0], b[0]] = fsolve(\n",
    "    lambda x: array(beta.interval(0.95, x[0], x[1], loc=0, scale=1))\n",
    "    - (0.144, 0.442),\n",
    "    [1,1]\n",
    "    )\n",
    "\n",
    "# 7-13 days\n",
    "[a[1], b[1]] = fsolve(\n",
    "    lambda x: array(beta.interval(0.95, x[0], x[1], loc=0, scale=1))\n",
    "    - (0.061, 0.302),\n",
    "    [1,1]\n",
    "    )\n",
    "\n",
    "# 14-27 days\n",
    "[a[2], b[2]] = fsolve(\n",
    "    lambda x: array(beta.interval(0.95, x[0], x[1], loc=0, scale=1))\n",
    "    - (0.133, 0.310),\n",
    "    [1,1]\n",
    "    )\n",
    "\n",
    "# 28-41 days\n",
    "[a[3], b[3]] = fsolve(\n",
    "    lambda x: array(beta.interval(0.95, x[0], x[1], loc=0, scale=1))\n",
    "    - (0.085, 0.299),\n",
    "    [1,1]\n",
    "    )\n",
    "\n",
    "# 42 days and over\n",
    "[a[4], b[4]] = fsolve(\n",
    "    lambda x: array(beta.interval(0.95, x[0], x[1], loc=0, scale=1))\n",
    "    - (0.055, 0.564),\n",
    "    [1,1]\n",
    "    )\n",
    "\n",
    "# Metropolis-Hastings to get a sample for rate of treatment\n",
    "\n",
    "i = 0\n",
    "att_symp = empty(n_sample+1000) # testing rate per person per year. Allow 1000 extra samples for burn-in\n",
    "ll = empty(n_sample+1000) # log-likelihood\n",
    "props = empty([n_sample+1000, 5]) # simulated data, for posterior predictive check\n",
    "old = 0.04 # starting sample value\n",
    "new = 0.04 # starting sample value\n",
    "\n",
    "# simulate probabilities corresponding to data\n",
    "\n",
    "# proportion expected in each time window\n",
    "tps = array([0., 7., 14., 28., 42., Inf])\n",
    "simp_old = exp(-old*tps[:5]) - exp(-old*tps[1:])\n",
    "simp_new = exp(-new*tps[:5]) - exp(-new*tps[1:])\n",
    "\n",
    "acc=0.\n",
    "while i < n_sample+1000: # to do samples for p_test_symp\n",
    "    \n",
    "    new = rs.normal(old, 0.05) # generate a sample from normal distribution\n",
    "    \n",
    "    if new < 0:\n",
    "        att_symp[i] = old # reject\n",
    "        ll[i] = -1e10\n",
    "    else:\n",
    "        simp_old = exp(-old*tps[:5]) - exp(-old*tps[1:])\n",
    "        simp_new = exp(-new*tps[:5]) - exp(-new*tps[1:])\n",
    "\n",
    "        if sum(simp_new > 0) != len(tps) - 1:\n",
    "            att_symp[i] = old # reject\n",
    "            ll[i] = -1e10\n",
    "        else:\n",
    "            # simulate probabilities corresponding to the data\n",
    "            log_ratio = sum(beta.logpdf(simp_new, a, b, loc=0, scale=1)) - sum(beta.logpdf(simp_old, a, b, loc=0, scale=1))\n",
    "    \n",
    "            if log(rs.uniform(0,1)) <  log_ratio:\n",
    "                att_symp[i] = new # accept\n",
    "                ll[i] = sum(beta.logpdf(simp_new, a, b, loc=0, scale=1))\n",
    "                old = new\n",
    "                acc = acc+1\n",
    "            else:\n",
    "                att_symp[i] = old # reject\n",
    "                ll[i] = sum(beta.logpdf(simp_old, a, b, loc=0, scale=1))\n",
    "    \n",
    "    props[i] = simp_old\n",
    "    i = i+1\n",
    "    \n",
    "att_symp = att_symp[1000:] # remove burn-in samples\n",
    "ll = ll[1000:] # log-likelihood\n",
    "    \n",
    "print acc/(n_sample+1000) # print the proportion of samples accepted\n",
    "print mean(att_symp)*365.25\n",
    "print array(percentile(att_symp, [2.5, 97.5]))*365.25\n",
    "\n",
    "att_symp = att_symp*365.25 # convert rate from day^-1 to year^-1"
   ]
  },
  {
   "cell_type": "code",
   "execution_count": 9,
   "metadata": {
    "collapsed": true
   },
   "outputs": [],
   "source": [
    "# women, 16-24\n",
    "[alpha_f_16_24, beta_f_16_24] = fsolve(\n",
    "    lambda x: array(beta.interval(0.95, x[0], x[1], loc=0, scale=1))\n",
    "    - (0.7998634469, 0.837979601),\n",
    "    [1,1]\n",
    "    )\n",
    "p_active_f_16_24 = rs.beta(alpha_f_16_24, beta_f_16_24, size=n_sample) # 16-24 yo only\n",
    "pop_active_f_15_24 = rs.binomial(3388842, p_active_f_16_24, size=n_sample)\n",
    "\n",
    "diag_rate_f_15_24 = rs.gamma(88101, 1, size=n_sample)/pop_active_f_15_24\n",
    "test_rate_f_15_24 = rs.gamma(1205896, 1, size=n_sample)/pop_active_f_15_24"
   ]
  },
  {
   "cell_type": "code",
   "execution_count": 10,
   "metadata": {
    "collapsed": true
   },
   "outputs": [],
   "source": [
    "# women, 16-19\n",
    "[alpha_f_16_19, beta_f_16_19] = fsolve(\n",
    "    lambda x: array(beta.interval(0.95, x[0], x[1], loc=0, scale=1))\n",
    "    - (0.6583593, 0.723554878),\n",
    "    [1,1]\n",
    "    )\n",
    "p_active_f_16_19 = rs.beta(alpha_f_16_19, beta_f_16_19, size=n_sample) # 16-19 yo only\n",
    "pop_active_f_15_19 = rs.binomial(1600686, p_active_f_16_19, size=n_sample)\n",
    "\n",
    "diag_rate_f_15_19 = rs.gamma(42874, 1, size=n_sample)/pop_active_f_15_19\n",
    "test_rate_f_15_19 = rs.gamma(520358, 1, size=n_sample)/pop_active_f_15_19"
   ]
  },
  {
   "cell_type": "code",
   "execution_count": 11,
   "metadata": {
    "collapsed": true
   },
   "outputs": [],
   "source": [
    "# women, 20-24\n",
    "[alpha_f_20_24, beta_f_20_24] = fsolve(\n",
    "    lambda x: array(beta.interval(0.95, x[0], x[1], loc=0, scale=1))\n",
    "    - (0.8904135, 0.934417684),\n",
    "    [1,1]\n",
    "    )\n",
    "p_active_f_20_24 = rs.beta(alpha_f_20_24, beta_f_20_24, size=n_sample) # 20-24 yo only\n",
    "pop_active_f_20_24 = rs.binomial(1788156, p_active_f_20_24, size=n_sample)\n",
    "\n",
    "diag_rate_f_20_24 = rs.gamma(45227, 1, size=n_sample)/pop_active_f_20_24\n",
    "test_rate_f_20_24 = rs.gamma(685538, 1, size=n_sample)/pop_active_f_20_24"
   ]
  },
  {
   "cell_type": "markdown",
   "metadata": {},
   "source": [
    "### Kahn estimates for prevalence of symptoms"
   ]
  },
  {
   "cell_type": "markdown",
   "metadata": {},
   "source": [
    "Kahn _et al._ (Sex Transm Dis; 2003) observed symptoms in 135 of 161 female chlamydia patients. Using this as a direct estimate of the proportion of infections which will develop symptoms gives rather low prevalence estimates:"
   ]
  },
  {
   "cell_type": "code",
   "execution_count": 12,
   "metadata": {
    "collapsed": true
   },
   "outputs": [],
   "source": [
    "p_asymp_f = rs.beta(135 + 1, 26 + 1, size=n_sample) # Kahn et al. Sex Transm Dis (2003) 84% NB numbers taken from text, p656\n",
    "#p_asymp_f = rs.beta(42, 22, size=n_sample) # Natsal-3\n",
    "# sample from beta distributions based on Natsal\n",
    "# women\n",
    "# [a_f, b_f] = fsolve(\n",
    "#     lambda x: array(beta.interval(0.95, x[0], x[1], loc=0, scale=1))\n",
    "#     - (0.4301738 , 0.7380273),\n",
    "#     [1,1]\n",
    "#     )\n",
    "# p_asymp_f = rs.beta(a_f, b_f, size=n_sample) # 16-19 yo only"
   ]
  },
  {
   "cell_type": "code",
   "execution_count": 13,
   "metadata": {
    "collapsed": false
   },
   "outputs": [],
   "source": [
    "prev_f_15_24 = zeros(n_sample)\n",
    "inc_f_15_24 = zeros(n_sample)\n",
    "scr_f_15_24 = zeros(n_sample)\n",
    "\n",
    "for i in xrange(n_sample):\n",
    "    [inc_f_15_24[i], scr_f_15_24[i]] = fsolve(lambda x: test_diag_fun(concatenate([\n",
    "                    x, array([\n",
    "                            1-p_asymp_f[i], # proportion of incident infections which are symptomatic\n",
    "                            p_fast[i], # proportion of incident infections which clear fast\n",
    "                            sc_f[i], # fast rate of self-clear \n",
    "                            sc_s[i], # slow rate of self-clear \n",
    "                            att_symp[i],\n",
    "                            p_true_pos_f[i], \n",
    "                            p_false_pos_f[i]\n",
    "                        ])])) - array([test_rate_f_15_24[i],diag_rate_f_15_24[i]]), [0.03, 0.44])\n",
    "    prev_f_15_24[i] = dyn_fun(\n",
    "        inc_f_15_24[i]*p_asymp_f[i]*p_fast[i], \n",
    "        inc_f_15_24[i]*p_asymp_f[i]*(1-p_fast[i]), \n",
    "        sc_f[i] + scr_f_15_24[i]*p_true_pos_f[i], \n",
    "        sc_s[i] + scr_f_15_24[i]*p_true_pos_f[i], \n",
    "        inc_f_15_24[i]*(1-p_asymp_f[i])*p_fast[i], \n",
    "        inc_f_15_24[i]*(1-p_asymp_f[i])*(1-p_fast[i]), \n",
    "        sc_f[i] + scr_f_15_24[i]*p_true_pos_f[i] + att_symp[i]*p_true_pos_f[i],\n",
    "        sc_s[i] + scr_f_15_24[i]*p_true_pos_f[i] + att_symp[i]*p_true_pos_f[i]\n",
    "    )"
   ]
  },
  {
   "cell_type": "code",
   "execution_count": 14,
   "metadata": {
    "collapsed": true
   },
   "outputs": [],
   "source": [
    "prev_f_15_19 = zeros(n_sample)\n",
    "inc_f_15_19 = zeros(n_sample)\n",
    "scr_f_15_19 = zeros(n_sample)\n",
    "\n",
    "for i in xrange(n_sample):\n",
    "    [inc_f_15_19[i], scr_f_15_19[i]] = fsolve(lambda x: test_diag_fun(concatenate([\n",
    "                    x, array([\n",
    "                            1-p_asymp_f[i], # proportion of incident infections which are symptomatic\n",
    "                            p_fast[i], # proportion of incident infections which clear fast\n",
    "                            sc_f[i], # fast rate of self-clear \n",
    "                            sc_s[i], # slow rate of self-clear \n",
    "                            att_symp[i],\n",
    "                            p_true_pos_f[i], \n",
    "                            p_false_pos_f[i]\n",
    "                        ])])) - array([test_rate_f_15_19[i],diag_rate_f_15_19[i]]), [0.03, 0.44])\n",
    "    prev_f_15_19[i] = dyn_fun(\n",
    "        inc_f_15_19[i]*p_asymp_f[i]*p_fast[i], \n",
    "        inc_f_15_19[i]*p_asymp_f[i]*(1-p_fast[i]), \n",
    "        sc_f[i] + scr_f_15_19[i]*p_true_pos_f[i], \n",
    "        sc_s[i] + scr_f_15_19[i]*p_true_pos_f[i], \n",
    "        inc_f_15_19[i]*(1-p_asymp_f[i])*p_fast[i], \n",
    "        inc_f_15_19[i]*(1-p_asymp_f[i])*(1-p_fast[i]), \n",
    "        sc_f[i] + scr_f_15_19[i]*p_true_pos_f[i] + att_symp[i]*p_true_pos_f[i],\n",
    "        sc_s[i] + scr_f_15_19[i]*p_true_pos_f[i] + att_symp[i]*p_true_pos_f[i]\n",
    "    )"
   ]
  },
  {
   "cell_type": "code",
   "execution_count": 15,
   "metadata": {
    "collapsed": true
   },
   "outputs": [],
   "source": [
    "prev_f_20_24 = zeros(n_sample)\n",
    "inc_f_20_24 = zeros(n_sample)\n",
    "scr_f_20_24 = zeros(n_sample)\n",
    "\n",
    "for i in xrange(n_sample):\n",
    "    [inc_f_20_24[i], scr_f_20_24[i]] = fsolve(lambda x: test_diag_fun(concatenate([\n",
    "                    x, array([\n",
    "                            1-p_asymp_f[i], # proportion of incident infections which are symptomatic\n",
    "                            p_fast[i], # proportion of incident infections which clear fast\n",
    "                            sc_f[i], # fast rate of self-clear \n",
    "                            sc_s[i], # slow rate of self-clear \n",
    "                            att_symp[i],\n",
    "                            p_true_pos_f[i], \n",
    "                            p_false_pos_f[i]\n",
    "                        ])])) - array([test_rate_f_20_24[i],diag_rate_f_20_24[i]]), [0.03, 0.44])\n",
    "    prev_f_20_24[i] = dyn_fun(\n",
    "        inc_f_20_24[i]*p_asymp_f[i]*p_fast[i], \n",
    "        inc_f_20_24[i]*p_asymp_f[i]*(1-p_fast[i]), \n",
    "        sc_f[i] + scr_f_20_24[i]*p_true_pos_f[i], \n",
    "        sc_s[i] + scr_f_20_24[i]*p_true_pos_f[i], \n",
    "        inc_f_20_24[i]*(1-p_asymp_f[i])*p_fast[i], \n",
    "        inc_f_20_24[i]*(1-p_asymp_f[i])*(1-p_fast[i]), \n",
    "        sc_f[i] + scr_f_20_24[i]*p_true_pos_f[i] + att_symp[i]*p_true_pos_f[i],\n",
    "        sc_s[i] + scr_f_20_24[i]*p_true_pos_f[i] + att_symp[i]*p_true_pos_f[i]\n",
    "    )"
   ]
  },
  {
   "cell_type": "code",
   "execution_count": 16,
   "metadata": {
    "collapsed": false
   },
   "outputs": [
    {
     "name": "stdout",
     "output_type": "stream",
     "text": [
      "median for sexually active women, 15-24 years: 0.0536098835522\n",
      "95% CI for sexually active women, 15-24 years: 0.0458544379537 0.0612884403663\n"
     ]
    },
    {
     "data": {
      "image/png": "[encoded data removed]",
      "text/plain": [
       "<matplotlib.figure.Figure at 0x105163950>"
      ]
     },
     "metadata": {},
     "output_type": "display_data"
    }
   ],
   "source": [
    "import matplotlib.pyplot as plt\n",
    "%matplotlib inline\n",
    "\n",
    "fig = plt.figure(figsize = (10,5))\n",
    "\n",
    "ax1 = fig.add_subplot(121)\n",
    "h_2012_f_15_24 = ax1.hist(prev_f_15_24, range=[min(prev_f_15_24),max(prev_f_15_24)], bins=20, normed=true, color='r')\n",
    "ax1.fill_betweenx([0,100], percentile(prev_f_15_24, 2.5), percentile(prev_f_15_24, 97.5), facecolor='r', alpha=0.5)\n",
    "ax1.errorbar(0.022, 85, xerr=[[0],[0.043-0.022]], ecolor='k', capsize=10)\n",
    "ax1.set_xlabel('Prevalence')\n",
    "ax1.set_xlim(0,0.06)\n",
    "ax1.set_ylim(0,90)\n",
    "ax1.set_title('Sexually active women, 15-24 years')\n",
    "\n",
    "ax2 = fig.add_subplot(122)\n",
    "h_2012_f_15_19 = ax2.hist(prev_f_15_19, range=[min(prev_f_15_19),max(prev_f_15_19)], bins=20, normed=true, histtype='step', color='fuchsia', label='15-19 years')\n",
    "h_2012_f_20_24 = ax2.hist(prev_f_20_24, range=[min(prev_f_20_24),max(prev_f_20_24)], bins=20, normed=true, histtype='step', color='r', label='20-24 years')\n",
    "ax2.errorbar(0.009, 20, xerr=[[0],[0.058-0.009]], ecolor='fuchsia', capsize=10)\n",
    "ax2.errorbar(0.025, 25, xerr=[[0],[0.086-0.025]], ecolor='fuchsia', capsize=10)\n",
    "ax2.errorbar(0.017, 30, xerr=[[0],[0.042-0.017]], ecolor='r', capsize=10)\n",
    "ax2.annotate('16-17 years', [0.009, 20], color='0.5')\n",
    "ax2.annotate('18-19 years', [0.025, 25], color='0.5')\n",
    "ax2.annotate('20-24 years', [0.017, 30], color='0.5')\n",
    "ax2.set_xlabel('Prevalence')\n",
    "ax2.set_xlim(0,0.1)\n",
    "ax2.set_ylim(0,90)\n",
    "ax2.set_title('Sexually active women')\n",
    "ax2.legend()\n",
    "\n",
    "print 'median for sexually active women, 15-24 years:', percentile(prev_f_15_24, 50)\n",
    "print '95% CI for sexually active women, 15-24 years:', percentile(prev_f_15_24, 2.5), percentile(prev_f_15_24, 97.5)"
   ]
  },
  {
   "cell_type": "markdown",
   "metadata": {},
   "source": [
    "It is not appropriate to use the Kahn data for the prevalence of symptoms in infected people, because the study was conducted in a different setting from Natsal-3 (a mobile screening unit in the urban US).\n",
    "\n",
    "### Natsal-3 data on prevalence of symptoms\n",
    "\n",
    "Natsal-3 asked participants about STI symptoms they had experienced in the last month. Combined with age and chlamydia testing data, this provides information on the prevalence of infection in those who tested positive for chlamydia. However, symptoms were not a specific indicator of infection, with several uninfected participants also reporting symptoms. \n",
    "\n",
    "We start by using the prevalence of symptoms across all infected individuals as an estimate of the proportion of incident infections causing symptoms."
   ]
  },
  {
   "cell_type": "code",
   "execution_count": 17,
   "metadata": {
    "collapsed": true
   },
   "outputs": [],
   "source": [
    "p_asymp_f = rs.beta(42, 22, size=n_sample) # Natsal-3; all infected women"
   ]
  },
  {
   "cell_type": "code",
   "execution_count": 18,
   "metadata": {
    "collapsed": false
   },
   "outputs": [],
   "source": [
    "prev_f_15_24 = zeros(n_sample)\n",
    "inc_f_15_24 = zeros(n_sample)\n",
    "scr_f_15_24 = zeros(n_sample)\n",
    "\n",
    "for i in xrange(n_sample):\n",
    "    [inc_f_15_24[i], scr_f_15_24[i]] = fsolve(lambda x: test_diag_fun(concatenate([\n",
    "                    x, array([\n",
    "                            1-p_asymp_f[i], # proportion of incident infections which are symptomatic\n",
    "                            p_fast[i], # proportion of incident infections which clear fast\n",
    "                            sc_f[i], # fast rate of self-clear \n",
    "                            sc_s[i], # slow rate of self-clear \n",
    "                            att_symp[i],\n",
    "                            p_true_pos_f[i], \n",
    "                            p_false_pos_f[i]\n",
    "                        ])])) - array([test_rate_f_15_24[i],diag_rate_f_15_24[i]]), [0.03, 0.44])\n",
    "    prev_f_15_24[i] = dyn_fun(\n",
    "        inc_f_15_24[i]*p_asymp_f[i]*p_fast[i], \n",
    "        inc_f_15_24[i]*p_asymp_f[i]*(1-p_fast[i]), \n",
    "        sc_f[i] + scr_f_15_24[i]*p_true_pos_f[i], \n",
    "        sc_s[i] + scr_f_15_24[i]*p_true_pos_f[i], \n",
    "        inc_f_15_24[i]*(1-p_asymp_f[i])*p_fast[i], \n",
    "        inc_f_15_24[i]*(1-p_asymp_f[i])*(1-p_fast[i]), \n",
    "        sc_f[i] + scr_f_15_24[i]*p_true_pos_f[i] + att_symp[i]*p_true_pos_f[i],\n",
    "        sc_s[i] + scr_f_15_24[i]*p_true_pos_f[i] + att_symp[i]*p_true_pos_f[i]\n",
    "    )"
   ]
  },
  {
   "cell_type": "code",
   "execution_count": 19,
   "metadata": {
    "collapsed": true
   },
   "outputs": [],
   "source": [
    "prev_f_15_19 = zeros(n_sample)\n",
    "inc_f_15_19 = zeros(n_sample)\n",
    "scr_f_15_19 = zeros(n_sample)\n",
    "\n",
    "for i in xrange(n_sample):\n",
    "    [inc_f_15_19[i], scr_f_15_19[i]] = fsolve(lambda x: test_diag_fun(concatenate([\n",
    "                    x, array([\n",
    "                            1-p_asymp_f[i], # proportion of incident infections which are symptomatic\n",
    "                            p_fast[i], # proportion of incident infections which clear fast\n",
    "                            sc_f[i], # fast rate of self-clear \n",
    "                            sc_s[i], # slow rate of self-clear \n",
    "                            att_symp[i],\n",
    "                            p_true_pos_f[i], \n",
    "                            p_false_pos_f[i]\n",
    "                        ])])) - array([test_rate_f_15_19[i],diag_rate_f_15_19[i]]), [0.03, 0.44])\n",
    "    prev_f_15_19[i] = dyn_fun(\n",
    "        inc_f_15_19[i]*p_asymp_f[i]*p_fast[i], \n",
    "        inc_f_15_19[i]*p_asymp_f[i]*(1-p_fast[i]), \n",
    "        sc_f[i] + scr_f_15_19[i]*p_true_pos_f[i], \n",
    "        sc_s[i] + scr_f_15_19[i]*p_true_pos_f[i], \n",
    "        inc_f_15_19[i]*(1-p_asymp_f[i])*p_fast[i], \n",
    "        inc_f_15_19[i]*(1-p_asymp_f[i])*(1-p_fast[i]), \n",
    "        sc_f[i] + scr_f_15_19[i]*p_true_pos_f[i] + att_symp[i]*p_true_pos_f[i],\n",
    "        sc_s[i] + scr_f_15_19[i]*p_true_pos_f[i] + att_symp[i]*p_true_pos_f[i]\n",
    "    )"
   ]
  },
  {
   "cell_type": "code",
   "execution_count": 20,
   "metadata": {
    "collapsed": true
   },
   "outputs": [],
   "source": [
    "prev_f_20_24 = zeros(n_sample)\n",
    "inc_f_20_24 = zeros(n_sample)\n",
    "scr_f_20_24 = zeros(n_sample)\n",
    "\n",
    "for i in xrange(n_sample):\n",
    "    [inc_f_20_24[i], scr_f_20_24[i]] = fsolve(lambda x: test_diag_fun(concatenate([\n",
    "                    x, array([\n",
    "                            1-p_asymp_f[i], # proportion of incident infections which are symptomatic\n",
    "                            p_fast[i], # proportion of incident infections which clear fast\n",
    "                            sc_f[i], # fast rate of self-clear \n",
    "                            sc_s[i], # slow rate of self-clear \n",
    "                            att_symp[i],\n",
    "                            p_true_pos_f[i], \n",
    "                            p_false_pos_f[i]\n",
    "                        ])])) - array([test_rate_f_20_24[i],diag_rate_f_20_24[i]]), [0.03, 0.44])\n",
    "    prev_f_20_24[i] = dyn_fun(\n",
    "        inc_f_20_24[i]*p_asymp_f[i]*p_fast[i], \n",
    "        inc_f_20_24[i]*p_asymp_f[i]*(1-p_fast[i]), \n",
    "        sc_f[i] + scr_f_20_24[i]*p_true_pos_f[i], \n",
    "        sc_s[i] + scr_f_20_24[i]*p_true_pos_f[i], \n",
    "        inc_f_20_24[i]*(1-p_asymp_f[i])*p_fast[i], \n",
    "        inc_f_20_24[i]*(1-p_asymp_f[i])*(1-p_fast[i]), \n",
    "        sc_f[i] + scr_f_20_24[i]*p_true_pos_f[i] + att_symp[i]*p_true_pos_f[i],\n",
    "        sc_s[i] + scr_f_20_24[i]*p_true_pos_f[i] + att_symp[i]*p_true_pos_f[i]\n",
    "    )"
   ]
  },
  {
   "cell_type": "code",
   "execution_count": 21,
   "metadata": {
    "collapsed": false
   },
   "outputs": [
    {
     "name": "stdout",
     "output_type": "stream",
     "text": [
      "median for sexually active women, 15-24 years: 0.0354914095565\n",
      "95% CI for sexually active women, 15-24 years: 0.0260984307088 0.0462961825198\n"
     ]
    },
    {
     "data": {
      "image/png": "[encoded data removed]",
      "text/plain": [
       "<matplotlib.figure.Figure at 0x104433250>"
      ]
     },
     "metadata": {},
     "output_type": "display_data"
    }
   ],
   "source": [
    "import matplotlib.pyplot as plt\n",
    "%matplotlib inline\n",
    "\n",
    "fig = plt.figure(figsize = (10,5))\n",
    "\n",
    "ax1 = fig.add_subplot(121)\n",
    "h_2012_f_15_24 = ax1.hist(prev_f_15_24, range=[min(prev_f_15_24),max(prev_f_15_24)], bins=20, normed=true, color='r')\n",
    "ax1.fill_betweenx([0,100], percentile(prev_f_15_24, 2.5), percentile(prev_f_15_24, 97.5), facecolor='r', alpha=0.5)\n",
    "ax1.errorbar(0.022, 85, xerr=[[0],[0.043-0.022]], ecolor='k', capsize=10)\n",
    "ax1.set_xlabel('Prevalence')\n",
    "ax1.set_xlim(0,0.06)\n",
    "ax1.set_ylim(0,90)\n",
    "ax1.set_title('Sexually active women, 15-24 years')\n",
    "\n",
    "ax2 = fig.add_subplot(122)\n",
    "h_2012_f_15_19 = ax2.hist(prev_f_15_19, range=[min(prev_f_15_19),max(prev_f_15_19)], bins=20, normed=true, histtype='step', color='fuchsia', label='15-19 years')\n",
    "h_2012_f_20_24 = ax2.hist(prev_f_20_24, range=[min(prev_f_20_24),max(prev_f_20_24)], bins=20, normed=true, histtype='step', color='r', label='20-24 years')\n",
    "ax2.errorbar(0.009, 20, xerr=[[0],[0.058-0.009]], ecolor='fuchsia', capsize=10)\n",
    "ax2.errorbar(0.025, 25, xerr=[[0],[0.086-0.025]], ecolor='fuchsia', capsize=10)\n",
    "ax2.errorbar(0.017, 30, xerr=[[0],[0.042-0.017]], ecolor='r', capsize=10)\n",
    "ax2.annotate('16-17 years', [0.009, 20], color='0.5')\n",
    "ax2.annotate('18-19 years', [0.025, 25], color='0.5')\n",
    "ax2.annotate('20-24 years', [0.017, 30], color='0.5')\n",
    "ax2.set_xlabel('Prevalence')\n",
    "ax2.set_xlim(0,0.1)\n",
    "ax2.set_ylim(0,90)\n",
    "ax2.set_title('Sexually active women')\n",
    "ax2.legend()\n",
    "\n",
    "print 'median for sexually active women, 15-24 years:', percentile(prev_f_15_24, 50)\n",
    "print '95% CI for sexually active women, 15-24 years:', percentile(prev_f_15_24, 2.5), percentile(prev_f_15_24, 97.5)"
   ]
  },
  {
   "cell_type": "markdown",
   "metadata": {},
   "source": [
    "These estimates agree well with Natsal-3.\n",
    "\n",
    "It would arguably be more appropriate to interpret this data as information about the prevalence of symptoms amongst prevalent infections. This is acheived using the second function. We must use data from only the appropriate age group, as different incidence and testing patterns affect the balance between asymptomatic and symptomatic infections at steady-state."
   ]
  },
  {
   "cell_type": "code",
   "execution_count": 22,
   "metadata": {
    "collapsed": false
   },
   "outputs": [
    {
     "name": "stderr",
     "output_type": "stream",
     "text": [
      "/System/Library/Frameworks/Python.framework/Versions/2.7/Extras/lib/python/scipy/optimize/minpack.py:236: RuntimeWarning: The iteration is not making good progress, as measured by the \n",
      "  improvement from the last ten iterations.\n",
      "  warnings.warn(msg, RuntimeWarning)\n"
     ]
    }
   ],
   "source": [
    "p_asymp_f_15_24 = rs.beta(24, 15, size=n_sample) # Natsal-3\n",
    "\n",
    "p_symp_f_15_24 = zeros(n_sample)\n",
    "prev_f_15_24 = zeros(n_sample)\n",
    "inc_f_15_24 = zeros(n_sample)\n",
    "scr_f_15_24 = zeros(n_sample)\n",
    "\n",
    "for i in xrange(n_sample):\n",
    "    [inc_f_15_24[i], scr_f_15_24[i], p_symp_f_15_24[i]] = fsolve(lambda x: test_diag_prev_symp_fun(concatenate([\n",
    "                    x, array([\n",
    "                            p_fast[i], # proportion of incident infections which clear fast\n",
    "                            sc_f[i], # fast rate of self-clear \n",
    "                            sc_s[i], # slow rate of self-clear \n",
    "                            att_symp[i],\n",
    "                            p_true_pos_f[i], \n",
    "                            p_false_pos_f[i]\n",
    "                        ])])) - array([test_rate_f_15_24[i],diag_rate_f_15_24[i], 1-p_asymp_f_15_24[i]]), [0.09, 0.25, 0.8])\n",
    "    prev_f_15_24[i] = dyn_fun(\n",
    "        inc_f_15_24[i]*p_asymp_f_15_24[i]*p_fast[i], \n",
    "        inc_f_15_24[i]*p_asymp_f_15_24[i]*(1-p_fast[i]), \n",
    "        sc_f[i] + scr_f_15_24[i]*p_true_pos_f[i], \n",
    "        sc_s[i] + scr_f_15_24[i]*p_true_pos_f[i], \n",
    "        inc_f_15_24[i]*(1-p_asymp_f_15_24[i])*p_fast[i], \n",
    "        inc_f_15_24[i]*(1-p_asymp_f_15_24[i])*(1-p_fast[i]), \n",
    "        sc_f[i] + scr_f_15_24[i]*p_true_pos_f[i] + att_symp[i]*p_true_pos_f[i],\n",
    "        sc_s[i] + scr_f_15_24[i]*p_true_pos_f[i] + att_symp[i]*p_true_pos_f[i]\n",
    "    )"
   ]
  },
  {
   "cell_type": "code",
   "execution_count": 23,
   "metadata": {
    "collapsed": false
   },
   "outputs": [],
   "source": [
    "p_asymp_f_15_19 = rs.beta(10, 8, size=n_sample) # Natsal-3\n",
    "\n",
    "p_symp_f_15_19 = zeros(n_sample)\n",
    "prev_f_15_19 = zeros(n_sample)\n",
    "inc_f_15_19 = zeros(n_sample)\n",
    "scr_f_15_19 = zeros(n_sample)\n",
    "\n",
    "for i in xrange(n_sample):\n",
    "    [inc_f_15_19[i], scr_f_15_19[i], p_symp_f_15_19[i]] = fsolve(lambda x: test_diag_prev_symp_fun(concatenate([\n",
    "                    x, array([\n",
    "                            p_fast[i], # proportion of incident infections which clear fast\n",
    "                            sc_f[i], # fast rate of self-clear \n",
    "                            sc_s[i], # slow rate of self-clear \n",
    "                            att_symp[i],\n",
    "                            p_true_pos_f[i], \n",
    "                            p_false_pos_f[i]\n",
    "                        ])])) - array([test_rate_f_15_19[i],diag_rate_f_15_19[i], 1-p_asymp_f_15_19[i]]), [0.09, 0.25, 0.8])\n",
    "    prev_f_15_19[i] = dyn_fun(\n",
    "        inc_f_15_19[i]*p_asymp_f_15_19[i]*p_fast[i], \n",
    "        inc_f_15_19[i]*p_asymp_f_15_19[i]*(1-p_fast[i]), \n",
    "        sc_f[i] + scr_f_15_19[i]*p_true_pos_f[i], \n",
    "        sc_s[i] + scr_f_15_19[i]*p_true_pos_f[i], \n",
    "        inc_f_15_19[i]*(1-p_asymp_f_15_19[i])*p_fast[i], \n",
    "        inc_f_15_19[i]*(1-p_asymp_f_15_19[i])*(1-p_fast[i]), \n",
    "        sc_f[i] + scr_f_15_19[i]*p_true_pos_f[i] + att_symp[i]*p_true_pos_f[i],\n",
    "        sc_s[i] + scr_f_15_19[i]*p_true_pos_f[i] + att_symp[i]*p_true_pos_f[i]\n",
    "    )"
   ]
  },
  {
   "cell_type": "code",
   "execution_count": 24,
   "metadata": {
    "collapsed": false
   },
   "outputs": [],
   "source": [
    "p_asymp_f_20_24 = rs.beta(15, 8, size=n_sample) # Natsal-3\n",
    "\n",
    "p_symp_f_20_24 = zeros(n_sample)\n",
    "prev_f_20_24 = zeros(n_sample)\n",
    "inc_f_20_24 = zeros(n_sample)\n",
    "scr_f_20_24 = zeros(n_sample)\n",
    "\n",
    "for i in xrange(n_sample):\n",
    "    [inc_f_20_24[i], scr_f_20_24[i], p_symp_f_20_24[i]] = fsolve(lambda x: test_diag_prev_symp_fun(concatenate([\n",
    "                    x, array([\n",
    "                            p_fast[i], # proportion of incident infections which clear fast\n",
    "                            sc_f[i], # fast rate of self-clear \n",
    "                            sc_s[i], # slow rate of self-clear \n",
    "                            att_symp[i],\n",
    "                            p_true_pos_f[i], \n",
    "                            p_false_pos_f[i]\n",
    "                        ])])) - array([test_rate_f_20_24[i],diag_rate_f_20_24[i], 1-p_asymp_f_20_24[i]]), [0.09, 0.25, 0.8])\n",
    "    prev_f_20_24[i] = dyn_fun(\n",
    "        inc_f_20_24[i]*p_asymp_f_20_24[i]*p_fast[i], \n",
    "        inc_f_20_24[i]*p_asymp_f_20_24[i]*(1-p_fast[i]), \n",
    "        sc_f[i] + scr_f_20_24[i]*p_true_pos_f[i], \n",
    "        sc_s[i] + scr_f_20_24[i]*p_true_pos_f[i], \n",
    "        inc_f_20_24[i]*(1-p_asymp_f_20_24[i])*p_fast[i], \n",
    "        inc_f_20_24[i]*(1-p_asymp_f_20_24[i])*(1-p_fast[i]), \n",
    "        sc_f[i] + scr_f_20_24[i]*p_true_pos_f[i] + att_symp[i]*p_true_pos_f[i],\n",
    "        sc_s[i] + scr_f_20_24[i]*p_true_pos_f[i] + att_symp[i]*p_true_pos_f[i]\n",
    "    )"
   ]
  },
  {
   "cell_type": "code",
   "execution_count": 25,
   "metadata": {
    "collapsed": false
   },
   "outputs": [
    {
     "name": "stdout",
     "output_type": "stream",
     "text": [
      "median for sexually active women, 15-24 years: 0.0211425443421\n",
      "95% CI for sexually active women, 15-24 years: 0.0154497704877 0.0283066471376\n"
     ]
    },
    {
     "data": {
      "image/png": "[encoded data removed]",
      "text/plain": [
       "<matplotlib.figure.Figure at 0x105528410>"
      ]
     },
     "metadata": {},
     "output_type": "display_data"
    }
   ],
   "source": [
    "fig = plt.figure(figsize = (10,5))\n",
    "\n",
    "ax1 = fig.add_subplot(121)\n",
    "h_2012_f_15_24 = ax1.hist(prev_f_15_24, range=[min(prev_f_15_24),max(prev_f_15_24)], bins=20, normed=true, color='r')\n",
    "ax1.fill_betweenx([0,100], percentile(prev_f_15_24, 2.5), percentile(prev_f_15_24, 97.5), facecolor='r', alpha=0.5)\n",
    "ax1.errorbar(0.022, 85, xerr=[[0],[0.043-0.022]], ecolor='k', capsize=10)\n",
    "ax1.set_xlabel('Prevalence')\n",
    "ax1.set_xlim(0,0.06)\n",
    "ax1.set_ylim(0,90)\n",
    "ax1.set_title('Sexually active women, 15-24 years')\n",
    "\n",
    "ax2 = fig.add_subplot(122)\n",
    "h_2012_f_15_19 = ax2.hist(prev_f_15_19, range=[min(prev_f_15_19),max(prev_f_15_19)], bins=20, normed=true, histtype='step', color='fuchsia', label='15-19 years')\n",
    "h_2012_f_20_24 = ax2.hist(prev_f_20_24, range=[min(prev_f_20_24),max(prev_f_20_24)], bins=20, normed=true, histtype='step', color='r', label='20-24 years')\n",
    "ax2.errorbar(0.009, 20, xerr=[[0],[0.058-0.009]], ecolor='fuchsia', capsize=10)\n",
    "ax2.errorbar(0.025, 25, xerr=[[0],[0.086-0.025]], ecolor='fuchsia', capsize=10)\n",
    "ax2.errorbar(0.017, 30, xerr=[[0],[0.042-0.017]], ecolor='r', capsize=10)\n",
    "ax2.annotate('16-17 years', [0.009, 20], color='0.5')\n",
    "ax2.annotate('18-19 years', [0.025, 25], color='0.5')\n",
    "ax2.annotate('20-24 years', [0.017, 30], color='0.5')\n",
    "ax2.set_xlabel('Prevalence')\n",
    "ax2.set_xlim(0,0.1)\n",
    "ax2.set_ylim(0,90)\n",
    "ax2.set_title('Sexually active women')\n",
    "ax2.legend()\n",
    "\n",
    "print 'median for sexually active women, 15-24 years:', percentile(prev_f_15_24, 50)\n",
    "print '95% CI for sexually active women, 15-24 years:', percentile(prev_f_15_24, 2.5), percentile(prev_f_15_24, 97.5)"
   ]
  },
  {
   "cell_type": "markdown",
   "metadata": {},
   "source": [
    "These estimates overlap with the Natsal-3 confidence intervals, but are consistently lower."
   ]
  },
  {
   "cell_type": "markdown",
   "metadata": {
    "collapsed": true
   },
   "source": [
    "### Natsal-3 data, corrected for non-specific symptoms\n",
    "\n",
    "Several women in Natsal-3 experienced symptoms in spite of being uninfected with chlamydia. We use this data to estimate the proportion of infected women experiencing symptoms which _were_ specific for chlamydia infection:"
   ]
  },
  {
   "cell_type": "code",
   "execution_count": 26,
   "metadata": {
    "collapsed": true
   },
   "outputs": [],
   "source": [
    "# symptoms, given infected\n",
    "[a_f_15_24, b_f_15_24] = fsolve(\n",
    "    lambda x: array(beta.interval(0.95, x[0], x[1], loc=0, scale=1))\n",
    "    - (0.263, 0.56),\n",
    "    [1,1]\n",
    "    )\n",
    "p_asymp_f_15_24 = rs.beta(a_f_15_24, b_f_15_24, size=n_sample) \n",
    "[a_f_15_19, b_f_15_19] = fsolve(\n",
    "    lambda x: array(beta.interval(0.95, x[0], x[1], loc=0, scale=1))\n",
    "    - (0.196, 0.51),\n",
    "    [1,1]\n",
    "    )\n",
    "p_asymp_f_15_19 = rs.beta(a_f_15_19, b_f_15_19, size=n_sample) \n",
    "[a_f_20_24, b_f_20_24] = fsolve(\n",
    "    lambda x: array(beta.interval(0.95, x[0], x[1], loc=0, scale=1))\n",
    "    - (0.275, 0.65),\n",
    "    [1,1]\n",
    "    )\n",
    "\n",
    "# symptoms, given uninfected (generic symptoms)\n",
    "[a_f_15_24_g, b_f_15_24_g] = fsolve(\n",
    "    lambda x: array(beta.interval(0.95, x[0], x[1], loc=0, scale=1))\n",
    "    - (0.242, 0.31),\n",
    "    [1,1]\n",
    "    )\n",
    "[a_f_15_19_g, b_f_15_19_g] = fsolve(\n",
    "    lambda x: array(beta.interval(0.95, x[0], x[1], loc=0, scale=1))\n",
    "    - (0.221, 0.32),\n",
    "    [1,1]\n",
    "    )\n",
    "[a_f_20_24_g, b_f_20_24_g] = fsolve(\n",
    "    lambda x: array(beta.interval(0.95, x[0], x[1], loc=0, scale=1))\n",
    "    - (0.236, 0.32),\n",
    "    [1,1]\n",
    "    )\n",
    "\n",
    "# calculate 1 - P(specific symptoms | infected)\n",
    "p_asymp_f_15_24 = zeros(n_sample)\n",
    "p_asymp_f_15_19 = zeros(n_sample)\n",
    "p_asymp_f_20_24 = zeros(n_sample)\n",
    "for i in xrange(n_sample):\n",
    "    p_generic_symp = rs.beta(a_f_15_24_g, b_f_15_24_g, size=1)\n",
    "    acc = 0\n",
    "    while acc==0: # ages 15-24\n",
    "        p_specific_given_infected = rs.uniform(0,1,size=1)\n",
    "        p_symp_given_infected = p_generic_symp + p_specific_given_infected*(1 - p_generic_symp)\n",
    "        log_p_accept = beta.logpdf(p_symp_given_infected, a_f_15_24, b_f_15_24, loc=0, scale=1)\n",
    "        if log(rs.uniform(0,1)) <  log_p_accept:\n",
    "            p_asymp_f_15_24[i] = 1 - p_specific_given_infected\n",
    "            acc = 1\n",
    "    acc = 0\n",
    "    while acc==0: # ages 15-19\n",
    "        p_specific_given_infected = rs.uniform(0,1,size=1)\n",
    "        p_symp_given_infected = p_generic_symp + p_specific_given_infected*(1 - p_generic_symp)\n",
    "        log_p_accept = beta.logpdf(p_symp_given_infected, a_f_15_19, b_f_15_19, loc=0, scale=1)\n",
    "        if log(rs.uniform(0,1)) <  log_p_accept:\n",
    "            p_asymp_f_15_19[i] = 1 - p_specific_given_infected\n",
    "            acc = 1\n",
    "    acc = 0\n",
    "    while acc==0: # ages 20-24\n",
    "        p_specific_given_infected = rs.uniform(0,1,size=1)\n",
    "        p_symp_given_infected = p_generic_symp + p_specific_given_infected*(1 - p_generic_symp)\n",
    "        log_p_accept = beta.logpdf(p_symp_given_infected, a_f_20_24, b_f_20_24, loc=0, scale=1)\n",
    "        if log(rs.uniform(0,1)) <  log_p_accept:\n",
    "            p_asymp_f_20_24[i] = 1 - p_specific_given_infected\n",
    "            acc = 1"
   ]
  },
  {
   "cell_type": "code",
   "execution_count": 27,
   "metadata": {
    "collapsed": true
   },
   "outputs": [],
   "source": [
    "p_symp_f_15_24 = zeros(n_sample)\n",
    "prev_f_15_24 = zeros(n_sample)\n",
    "inc_f_15_24 = zeros(n_sample)\n",
    "scr_f_15_24 = zeros(n_sample)\n",
    "\n",
    "for i in xrange(n_sample):\n",
    "    [inc_f_15_24[i], scr_f_15_24[i], p_symp_f_15_24[i]] = fsolve(lambda x: test_diag_prev_symp_fun(concatenate([\n",
    "                    x, array([\n",
    "                            p_fast[i], # proportion of incident infections which clear fast\n",
    "                            sc_f[i], # fast rate of self-clear \n",
    "                            sc_s[i], # slow rate of self-clear \n",
    "                            att_symp[i],\n",
    "                            p_true_pos_f[i], \n",
    "                            p_false_pos_f[i]\n",
    "                        ])])) - array([test_rate_f_15_24[i],diag_rate_f_15_24[i], 1-p_asymp_f_15_24[i]]), [0.09, 0.25, 0.8])\n",
    "    prev_f_15_24[i] = dyn_fun(\n",
    "        inc_f_15_24[i]*p_asymp_f_15_24[i]*p_fast[i], \n",
    "        inc_f_15_24[i]*p_asymp_f_15_24[i]*(1-p_fast[i]), \n",
    "        sc_f[i] + scr_f_15_24[i]*p_true_pos_f[i], \n",
    "        sc_s[i] + scr_f_15_24[i]*p_true_pos_f[i], \n",
    "        inc_f_15_24[i]*(1-p_asymp_f_15_24[i])*p_fast[i], \n",
    "        inc_f_15_24[i]*(1-p_asymp_f_15_24[i])*(1-p_fast[i]), \n",
    "        sc_f[i] + scr_f_15_24[i]*p_true_pos_f[i] + att_symp[i]*p_true_pos_f[i],\n",
    "        sc_s[i] + scr_f_15_24[i]*p_true_pos_f[i] + att_symp[i]*p_true_pos_f[i]\n",
    "    )"
   ]
  },
  {
   "cell_type": "code",
   "execution_count": 28,
   "metadata": {
    "collapsed": true
   },
   "outputs": [],
   "source": [
    "p_symp_f_15_19 = zeros(n_sample)\n",
    "prev_f_15_19 = zeros(n_sample)\n",
    "inc_f_15_19 = zeros(n_sample)\n",
    "scr_f_15_19 = zeros(n_sample)\n",
    "\n",
    "for i in xrange(n_sample):\n",
    "    [inc_f_15_19[i], scr_f_15_19[i], p_symp_f_15_19[i]] = fsolve(lambda x: test_diag_prev_symp_fun(concatenate([\n",
    "                    x, array([\n",
    "                            p_fast[i], # proportion of incident infections which clear fast\n",
    "                            sc_f[i], # fast rate of self-clear \n",
    "                            sc_s[i], # slow rate of self-clear \n",
    "                            att_symp[i],\n",
    "                            p_true_pos_f[i], \n",
    "                            p_false_pos_f[i]\n",
    "                        ])])) - array([test_rate_f_15_19[i],diag_rate_f_15_19[i], 1-p_asymp_f_15_19[i]]), [0.09, 0.25, 0.8])\n",
    "    prev_f_15_19[i] = dyn_fun(\n",
    "        inc_f_15_19[i]*p_asymp_f_15_19[i]*p_fast[i], \n",
    "        inc_f_15_19[i]*p_asymp_f_15_19[i]*(1-p_fast[i]), \n",
    "        sc_f[i] + scr_f_15_19[i]*p_true_pos_f[i], \n",
    "        sc_s[i] + scr_f_15_19[i]*p_true_pos_f[i], \n",
    "        inc_f_15_19[i]*(1-p_asymp_f_15_19[i])*p_fast[i], \n",
    "        inc_f_15_19[i]*(1-p_asymp_f_15_19[i])*(1-p_fast[i]), \n",
    "        sc_f[i] + scr_f_15_19[i]*p_true_pos_f[i] + att_symp[i]*p_true_pos_f[i],\n",
    "        sc_s[i] + scr_f_15_19[i]*p_true_pos_f[i] + att_symp[i]*p_true_pos_f[i]\n",
    "    )"
   ]
  },
  {
   "cell_type": "code",
   "execution_count": 29,
   "metadata": {
    "collapsed": true
   },
   "outputs": [],
   "source": [
    "p_symp_f_20_24 = zeros(n_sample)\n",
    "prev_f_20_24 = zeros(n_sample)\n",
    "inc_f_20_24 = zeros(n_sample)\n",
    "scr_f_20_24 = zeros(n_sample)\n",
    "\n",
    "for i in xrange(n_sample):\n",
    "    [inc_f_20_24[i], scr_f_20_24[i], p_symp_f_20_24[i]] = fsolve(lambda x: test_diag_prev_symp_fun(concatenate([\n",
    "                    x, array([\n",
    "                            p_fast[i], # proportion of incident infections which clear fast\n",
    "                            sc_f[i], # fast rate of self-clear \n",
    "                            sc_s[i], # slow rate of self-clear \n",
    "                            att_symp[i],\n",
    "                            p_true_pos_f[i], \n",
    "                            p_false_pos_f[i]\n",
    "                        ])])) - array([test_rate_f_20_24[i],diag_rate_f_20_24[i], 1-p_asymp_f_20_24[i]]), [0.09, 0.25, 0.8])\n",
    "    prev_f_20_24[i] = dyn_fun(\n",
    "        inc_f_20_24[i]*p_asymp_f_20_24[i]*p_fast[i], \n",
    "        inc_f_20_24[i]*p_asymp_f_20_24[i]*(1-p_fast[i]), \n",
    "        sc_f[i] + scr_f_20_24[i]*p_true_pos_f[i], \n",
    "        sc_s[i] + scr_f_20_24[i]*p_true_pos_f[i], \n",
    "        inc_f_20_24[i]*(1-p_asymp_f_20_24[i])*p_fast[i], \n",
    "        inc_f_20_24[i]*(1-p_asymp_f_20_24[i])*(1-p_fast[i]), \n",
    "        sc_f[i] + scr_f_20_24[i]*p_true_pos_f[i] + att_symp[i]*p_true_pos_f[i],\n",
    "        sc_s[i] + scr_f_20_24[i]*p_true_pos_f[i] + att_symp[i]*p_true_pos_f[i]\n",
    "    )"
   ]
  },
  {
   "cell_type": "code",
   "execution_count": 30,
   "metadata": {
    "collapsed": false
   },
   "outputs": [
    {
     "name": "stdout",
     "output_type": "stream",
     "text": [
      "median for sexually active women, 15-24 years: 0.0283058522874\n",
      "95% CI for sexually active women, 15-24 years: 0.0184143037263 0.0654419113893\n"
     ]
    },
    {
     "data": {
      "image/png": "[encoded data removed]",
      "text/plain": [
       "<matplotlib.figure.Figure at 0x105880b10>"
      ]
     },
     "metadata": {},
     "output_type": "display_data"
    }
   ],
   "source": [
    "fig = plt.figure(figsize = (10,5))\n",
    "\n",
    "ax1 = fig.add_subplot(121)\n",
    "h_2012_f_15_24 = ax1.hist(prev_f_15_24, range=[min(prev_f_15_24),max(prev_f_15_24)], bins=20, normed=true, color='r')\n",
    "ax1.fill_betweenx([0,100], percentile(prev_f_15_24, 2.5), percentile(prev_f_15_24, 97.5), facecolor='r', alpha=0.5)\n",
    "ax1.errorbar(0.022, 85, xerr=[[0],[0.043-0.022]], ecolor='k', capsize=10)\n",
    "ax1.set_xlabel('Prevalence')\n",
    "ax1.set_xlim(0,0.06)\n",
    "ax1.set_ylim(0,90)\n",
    "ax1.set_title('Sexually active women, 15-24 years')\n",
    "\n",
    "ax2 = fig.add_subplot(122)\n",
    "h_2012_f_15_19 = ax2.hist(prev_f_15_19, range=[min(prev_f_15_19),max(prev_f_15_19)], bins=20, normed=true, histtype='step', color='fuchsia', label='15-19 years')\n",
    "h_2012_f_20_24 = ax2.hist(prev_f_20_24, range=[min(prev_f_20_24),max(prev_f_20_24)], bins=20, normed=true, histtype='step', color='r', label='20-24 years')\n",
    "ax2.errorbar(0.009, 20, xerr=[[0],[0.058-0.009]], ecolor='fuchsia', capsize=10)\n",
    "ax2.errorbar(0.025, 25, xerr=[[0],[0.086-0.025]], ecolor='fuchsia', capsize=10)\n",
    "ax2.errorbar(0.017, 30, xerr=[[0],[0.042-0.017]], ecolor='r', capsize=10)\n",
    "ax2.annotate('16-17 years', [0.009, 20], color='0.5')\n",
    "ax2.annotate('18-19 years', [0.025, 25], color='0.5')\n",
    "ax2.annotate('20-24 years', [0.017, 30], color='0.5')\n",
    "ax2.set_xlabel('Prevalence')\n",
    "ax2.set_xlim(0,0.1)\n",
    "ax2.set_ylim(0,90)\n",
    "ax2.set_title('Sexually active women')\n",
    "ax2.legend()\n",
    "\n",
    "print 'median for sexually active women, 15-24 years:', percentile(prev_f_15_24, 50)\n",
    "print '95% CI for sexually active women, 15-24 years:', percentile(prev_f_15_24, 2.5), percentile(prev_f_15_24, 97.5)"
   ]
  },
  {
   "cell_type": "code",
   "execution_count": 31,
   "metadata": {
    "collapsed": false
   },
   "outputs": [
    {
     "name": "stdout",
     "output_type": "stream",
     "text": [
      "0.0318736427025\n",
      "0.0403877401124\n",
      "0.0248465090876\n"
     ]
    }
   ],
   "source": [
    "print mean(prev_f_15_24)\n",
    "print mean(prev_f_15_19)\n",
    "print mean(prev_f_20_24)"
   ]
  },
  {
   "cell_type": "code",
   "execution_count": 32,
   "metadata": {
    "collapsed": false
   },
   "outputs": [
    {
     "data": {
      "text/plain": [
       "[<matplotlib.lines.Line2D at 0x1053b1b50>]"
      ]
     },
     "execution_count": 32,
     "metadata": {},
     "output_type": "execute_result"
    },
    {
     "data": {
      "image/png": "[encoded data removed]",
      "text/plain": [
       "<matplotlib.figure.Figure at 0x10443b350>"
      ]
     },
     "metadata": {},
     "output_type": "display_data"
    }
   ],
   "source": [
    "plt.plot(p_asymp_f_15_24, prev_f_15_24, '.')"
   ]
  },
  {
   "cell_type": "code",
   "execution_count": null,
   "metadata": {
    "collapsed": true
   },
   "outputs": [],
   "source": []
  }
 ],
 "metadata": {
  "kernelspec": {
   "display_name": "Python 2",
   "language": "python",
   "name": "python2"
  },
  "language_info": {
   "codemirror_mode": {
    "name": "ipython",
    "version": 2
   },
   "file_extension": ".py",
   "mimetype": "text/x-python",
   "name": "python",
   "nbconvert_exporter": "python",
   "pygments_lexer": "ipython2",
   "version": "2.7.10"
  }
 },
 "nbformat": 4,
 "nbformat_minor": 0
}
