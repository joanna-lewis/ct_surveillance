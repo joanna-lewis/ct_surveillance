{
 "cells": [
  {
   "cell_type": "code",
   "execution_count": 6,
   "metadata": {
    "collapsed": false
   },
   "outputs": [
    {
     "name": "stdout",
     "output_type": "stream",
     "text": [
      "{As: alpha_AfU*alpha_SfU*alpha_SsU*alpha_UAs/(alpha_AfU*alpha_AsU*alpha_SfU*alpha_SsU + alpha_AfU*alpha_AsU*alpha_SfU*alpha_USs + alpha_AfU*alpha_AsU*alpha_SsU*alpha_USf + alpha_AfU*alpha_SfU*alpha_SsU*alpha_UAs + alpha_AsU*alpha_SfU*alpha_SsU*alpha_UAf), Af: alpha_AsU*alpha_SfU*alpha_SsU*alpha_UAf/(alpha_AfU*alpha_AsU*alpha_SfU*alpha_SsU + alpha_AfU*alpha_AsU*alpha_SfU*alpha_USs + alpha_AfU*alpha_AsU*alpha_SsU*alpha_USf + alpha_AfU*alpha_SfU*alpha_SsU*alpha_UAs + alpha_AsU*alpha_SfU*alpha_SsU*alpha_UAf), U: alpha_AfU*alpha_AsU*alpha_SfU*alpha_SsU/(alpha_AfU*alpha_AsU*alpha_SfU*alpha_SsU + alpha_AfU*alpha_AsU*alpha_SfU*alpha_USs + alpha_AfU*alpha_AsU*alpha_SsU*alpha_USf + alpha_AfU*alpha_SfU*alpha_SsU*alpha_UAs + alpha_AsU*alpha_SfU*alpha_SsU*alpha_UAf), Ss: alpha_AfU*alpha_AsU*alpha_SfU*alpha_USs/(alpha_AfU*alpha_AsU*alpha_SfU*alpha_SsU + alpha_AfU*alpha_AsU*alpha_SfU*alpha_USs + alpha_AfU*alpha_AsU*alpha_SsU*alpha_USf + alpha_AfU*alpha_SfU*alpha_SsU*alpha_UAs + alpha_AsU*alpha_SfU*alpha_SsU*alpha_UAf), Sf: alpha_AfU*alpha_AsU*alpha_SsU*alpha_USf/(alpha_AfU*alpha_AsU*alpha_SfU*alpha_SsU + alpha_AfU*alpha_AsU*alpha_SfU*alpha_USs + alpha_AfU*alpha_AsU*alpha_SsU*alpha_USf + alpha_AfU*alpha_SfU*alpha_SsU*alpha_UAs + alpha_AsU*alpha_SfU*alpha_SsU*alpha_UAf)}\n"
     ]
    }
   ],
   "source": [
    "# this is the preliminary work so that you have a function that gives testing and diagnosis rates per person per unit time\n",
    "\n",
    "from numpy import *\n",
    "from sympy import *\n",
    "\n",
    "##############################\n",
    "# function to calculate steady-state A, U and S\n",
    "##############################\n",
    "\n",
    "Af, As, U, Sf, Ss = symbols(\"Af As U Sf Ss\")\n",
    "alpha_UAf, alpha_UAs, alpha_AfU, alpha_AsU, alpha_USf, alpha_USs, alpha_SfU, alpha_SsU  = symbols(\"alpha_UAf alpha_UAs alpha_AfU alpha_AsU alpha_USf alpha_USs alpha_SfU alpha_SsU\")\n",
    "\n",
    "model_dyn = [\n",
    "    alpha_UAf*U - alpha_AfU*Af, # asymptomatic infected fast clearance\n",
    "    alpha_UAs*U - alpha_AsU*As, # asymptomatic infected slow clearance\n",
    "    alpha_AfU*Af + alpha_SfU*Sf + alpha_AsU*As + alpha_SsU*Ss - (alpha_UAf + alpha_UAs + alpha_USf + alpha_USs)*U, # uninfected\n",
    "    alpha_USf*U - alpha_SfU*Sf, # symptomatic infected fast clearance\n",
    "    alpha_USs*U - alpha_SsU*Ss, # symptomatic infected slow clearance\n",
    "    Af + As + U + Sf + Ss - 1\n",
    "    ]\n",
    "\n",
    "sol_dyn = solve(model_dyn, Af, As, U, Sf, Ss)\n",
    "print sol_dyn"
   ]
  },
  {
   "cell_type": "code",
   "execution_count": 7,
   "metadata": {
    "collapsed": true
   },
   "outputs": [],
   "source": [
    "U_fun = lambdify((alpha_UAf, alpha_UAs, alpha_AfU, alpha_AsU, alpha_USf, alpha_USs, alpha_SfU, alpha_SsU), sol_dyn[U])\n",
    "Af_fun = lambdify((alpha_UAf, alpha_UAs, alpha_AfU, alpha_AsU, alpha_USf, alpha_USs, alpha_SfU, alpha_SsU), sol_dyn[Af])\n",
    "As_fun = lambdify((alpha_UAf, alpha_UAs, alpha_AfU, alpha_AsU, alpha_USf, alpha_USs, alpha_SfU, alpha_SsU), sol_dyn[As])\n",
    "Sf_fun = lambdify((alpha_UAf, alpha_UAs, alpha_AfU, alpha_AsU, alpha_USf, alpha_USs, alpha_SfU, alpha_SsU), sol_dyn[Sf])\n",
    "Ss_fun = lambdify((alpha_UAf, alpha_UAs, alpha_AfU, alpha_AsU, alpha_USf, alpha_USs, alpha_SfU, alpha_SsU), sol_dyn[Ss])\n",
    "dyn_fun = lambdify((alpha_UAf, alpha_UAs, alpha_AfU, alpha_AsU, alpha_USf, alpha_USs, alpha_SfU, alpha_SsU), 1 - sol_dyn[U])"
   ]
  },
  {
   "cell_type": "code",
   "execution_count": 66,
   "metadata": {
    "collapsed": true
   },
   "outputs": [],
   "source": [
    "##############################\n",
    "# now the model for observed testing and diagnosis rates\n",
    "##############################\n",
    "\n",
    "tsym, dsym, ssym, test_sym, true_pos, false_pos = symbols(\"tsym dsym ssym test_sym true_pos false_pos\")\n",
    "\n",
    "model_test_diag = [\n",
    "    tsym - ( ssym + (1 - Af - As - U)*test_sym ), # total testing rate\n",
    "    dsym - ( (Af + As)*ssym*true_pos + U*ssym*false_pos + (1 - Af - As - U)*test_sym*true_pos ) # total diagnosis rate\n",
    "    ]\n",
    "\n",
    "sol_prev = solve(model_test_diag, ssym, U)\n",
    "sol_test_diag = solve(model_test_diag, tsym, dsym)\n",
    "test_fun = lambdify((Af, As, U, ssym, test_sym, true_pos, false_pos), sol_test_diag[tsym])\n",
    "diag_fun = lambdify((Af, As, U, ssym, test_sym, true_pos, false_pos), sol_test_diag[dsym])\n",
    "\n",
    "def test_diag_fun(parms):\n",
    "    # parms = (incidence, screening rate, proportion symptomatic, self-cure rate, testing rate in symptomatics, true positive rate, false positive rate, ...)\n",
    "    inc = parms[0]\n",
    "    scr = parms[1]\n",
    "    p_symp = parms[2]\n",
    "    p_fast = parms[3]\n",
    "    self_cure_f = parms[4]\n",
    "    self_cure_s = parms[5]\n",
    "    test_sym = parms[6]\n",
    "    true_pos = parms[7]\n",
    "    false_pos = parms[8]\n",
    "    \n",
    "    Af = Af_fun(inc*(1-p_symp)*p_fast, inc*(1-p_symp)*(1-p_fast), self_cure_f + scr*true_pos, self_cure_s + scr*true_pos, inc*p_symp*p_fast, inc*p_symp*(1-p_fast), self_cure_f + scr*true_pos + test_sym*true_pos, self_cure_s + scr*true_pos + test_sym*true_pos)\n",
    "    As = As_fun(inc*(1-p_symp)*p_fast, inc*(1-p_symp)*(1-p_fast), self_cure_f + scr*true_pos, self_cure_s + scr*true_pos, inc*p_symp*p_fast, inc*p_symp*(1-p_fast), self_cure_f + scr*true_pos + test_sym*true_pos, self_cure_s + scr*true_pos + test_sym*true_pos)\n",
    "    U = U_fun(inc*(1-p_symp)*p_fast, inc*(1-p_symp)*(1-p_fast), self_cure_f + scr*true_pos, self_cure_s + scr*true_pos, inc*p_symp*p_fast, inc*p_symp*(1-p_fast), self_cure_f + scr*true_pos + test_sym*true_pos, self_cure_s + scr*true_pos + test_sym*true_pos)\n",
    "    return [test_fun(Af, As, U, scr, test_sym, true_pos, false_pos), diag_fun(Af, As, U, scr, test_sym, true_pos, false_pos)]\n",
    "    "
   ]
  },
  {
   "cell_type": "code",
   "execution_count": 67,
   "metadata": {
    "collapsed": true
   },
   "outputs": [],
   "source": [
    "from numpy import *\n",
    "from scipy.optimize import fsolve\n",
    "n_sample = 100\n",
    "rs = random.RandomState(12345)\n"
   ]
  },
  {
   "cell_type": "code",
   "execution_count": 68,
   "metadata": {
    "collapsed": false
   },
   "outputs": [],
   "source": [
    "p_asymp_f = rs.beta(135 + 1, 26 + 1, size=n_sample) # Kahn et al. Sex Transm Dis (2003) 84% NB numbers taken from text, p656\n",
    "sc_f = 120*ones(n_sample)\n",
    "p_true_pos_f = rs.beta(129+1, 12+1, size=n_sample) # Low Health Technol Assess (2007): 129 of 141 infected samples tested +ve\n",
    "p_false_pos_f = rs.beta(4+1, 2323+1, size=n_sample) # Low Health Technol Assess (2007): 4 of 2327 uninfected samples tested +ve\n",
    "p_fast = 0.23*ones(n_sample) # for the moment"
   ]
  },
  {
   "cell_type": "code",
   "execution_count": 69,
   "metadata": {
    "collapsed": false
   },
   "outputs": [],
   "source": [
    "# Alternatively, read in stan samples.\n",
    "\n",
    "sc_s = empty(n_sample) # testing rate per person per year\n",
    "\n",
    "import csv\n",
    "with open('../chlamydia_two_exponentials_init0_280416.csv', 'rU') as f:\n",
    "    reader = csv.reader(f)\n",
    "    i=0\n",
    "    for row in reader:\n",
    "        if i < n_sample:\n",
    "            sc_s[i] = row[0]\n",
    "            i = i+1"
   ]
  },
  {
   "cell_type": "code",
   "execution_count": 70,
   "metadata": {
    "collapsed": false
   },
   "outputs": [
    {
     "name": "stdout",
     "output_type": "stream",
     "text": [
      "0.221818181818\n",
      "14.9789302591\n",
      "[  7.34576037  21.59333432]\n"
     ]
    }
   ],
   "source": [
    "from scipy.stats import beta\n",
    "\n",
    "# Find beta distributions corresponding to 95% CIs reported in Mercer Sex. Transm. Infect. (2007) (see table above).\n",
    "\n",
    "a = empty(5)\n",
    "b = empty(5)\n",
    "\n",
    "# < 1 week\n",
    "[a[0], b[0]] = fsolve(\n",
    "    lambda x: array(beta.interval(0.95, x[0], x[1], loc=0, scale=1))\n",
    "    - (0.144, 0.442),\n",
    "    [1,1]\n",
    "    )\n",
    "\n",
    "# 7-13 days\n",
    "[a[1], b[1]] = fsolve(\n",
    "    lambda x: array(beta.interval(0.95, x[0], x[1], loc=0, scale=1))\n",
    "    - (0.061, 0.302),\n",
    "    [1,1]\n",
    "    )\n",
    "\n",
    "# 14-27 days\n",
    "[a[2], b[2]] = fsolve(\n",
    "    lambda x: array(beta.interval(0.95, x[0], x[1], loc=0, scale=1))\n",
    "    - (0.133, 0.310),\n",
    "    [1,1]\n",
    "    )\n",
    "\n",
    "# 28-41 days\n",
    "[a[3], b[3]] = fsolve(\n",
    "    lambda x: array(beta.interval(0.95, x[0], x[1], loc=0, scale=1))\n",
    "    - (0.085, 0.299),\n",
    "    [1,1]\n",
    "    )\n",
    "\n",
    "# 42 days and over\n",
    "[a[4], b[4]] = fsolve(\n",
    "    lambda x: array(beta.interval(0.95, x[0], x[1], loc=0, scale=1))\n",
    "    - (0.055, 0.564),\n",
    "    [1,1]\n",
    "    )\n",
    "\n",
    "# Metropolis-Hastings to get a sample for rate of treatment\n",
    "\n",
    "i = 0\n",
    "att_symp = empty(n_sample+1000) # testing rate per person per year. Allow 1000 extra samples for burn-in\n",
    "ll = empty(n_sample+1000) # log-likelihood\n",
    "props = empty([n_sample+1000, 5]) # simulated data, for posterior predictive check\n",
    "old = 0.04 # starting sample value\n",
    "new = 0.04 # starting sample value\n",
    "\n",
    "# simulate probabilities corresponding to data\n",
    "\n",
    "# proportion expected in each time window\n",
    "tps = array([0., 7., 14., 28., 42., Inf])\n",
    "simp_old = exp(-old*tps[:5]) - exp(-old*tps[1:])\n",
    "simp_new = exp(-new*tps[:5]) - exp(-new*tps[1:])\n",
    "\n",
    "acc=0.\n",
    "while i < n_sample+1000: # to do samples for p_test_symp\n",
    "    \n",
    "    new = rs.normal(old, 0.05) # generate a sample from normal distribution\n",
    "    \n",
    "    if new < 0:\n",
    "        att_symp[i] = old # reject\n",
    "        ll[i] = -1e10\n",
    "    else:\n",
    "        simp_old = exp(-old*tps[:5]) - exp(-old*tps[1:])\n",
    "        simp_new = exp(-new*tps[:5]) - exp(-new*tps[1:])\n",
    "\n",
    "        if sum(simp_new > 0) != len(tps) - 1:\n",
    "            att_symp[i] = old # reject\n",
    "            ll[i] = -1e10\n",
    "        else:\n",
    "            # simulate probabilities corresponding to the data\n",
    "            log_ratio = sum(beta.logpdf(simp_new, a, b, loc=0, scale=1)) - sum(beta.logpdf(simp_old, a, b, loc=0, scale=1))\n",
    "    \n",
    "            if log(rs.uniform(0,1)) <  log_ratio:\n",
    "                att_symp[i] = new # accept\n",
    "                ll[i] = sum(beta.logpdf(simp_new, a, b, loc=0, scale=1))\n",
    "                old = new\n",
    "                acc = acc+1\n",
    "            else:\n",
    "                att_symp[i] = old # reject\n",
    "                ll[i] = sum(beta.logpdf(simp_old, a, b, loc=0, scale=1))\n",
    "    \n",
    "    props[i] = simp_old\n",
    "    i = i+1\n",
    "    \n",
    "att_symp = att_symp[1000:] # remove burn-in samples\n",
    "ll = ll[1000:] # log-likelihood\n",
    "    \n",
    "print acc/(n_sample+1000) # print the proportion of samples accepted\n",
    "print mean(att_symp)*365.25\n",
    "print array(percentile(att_symp, [2.5, 97.5]))*365.25\n",
    "\n",
    "att_symp = att_symp*365.25 # convert rate from day^-1 to year^-1"
   ]
  },
  {
   "cell_type": "code",
   "execution_count": 74,
   "metadata": {
    "collapsed": true
   },
   "outputs": [],
   "source": [
    "# women, 16-24\n",
    "[alpha_f_16_24, beta_f_16_24] = fsolve(\n",
    "    lambda x: array(beta.interval(0.95, x[0], x[1], loc=0, scale=1))\n",
    "    - (0.7998634469, 0.837979601),\n",
    "    [1,1]\n",
    "    )\n",
    "p_active_f_16_24 = rs.beta(alpha_f_16_24, beta_f_16_24, size=n_sample) # 16-24 yo only\n",
    "pop_active_f_15_24 = rs.binomial(3388842, p_active_f_16_24, size=n_sample)\n",
    "\n",
    "diag_rate_f_15_24 = rs.gamma(88101, 1, size=n_sample)/pop_active_f_15_24\n",
    "test_rate_f_15_24 = rs.gamma(1205896, 1, size=n_sample)/pop_active_f_15_24"
   ]
  },
  {
   "cell_type": "code",
   "execution_count": 75,
   "metadata": {
    "collapsed": false
   },
   "outputs": [
    {
     "ename": "TypeError",
     "evalue": "<lambda>() takes exactly 8 arguments (4 given)",
     "output_type": "error",
     "traceback": [
      "\u001b[0;31m---------------------------------------------------------------------------\u001b[0m",
      "\u001b[0;31mTypeError\u001b[0m                                 Traceback (most recent call last)",
      "\u001b[0;32m<ipython-input-75-3f39b32c0c0e>\u001b[0m in \u001b[0;36m<module>\u001b[0;34m()\u001b[0m\n\u001b[1;32m     14\u001b[0m                             \u001b[0mp_false_pos_f\u001b[0m\u001b[0;34m[\u001b[0m\u001b[0mi\u001b[0m\u001b[0;34m]\u001b[0m\u001b[0;34m\u001b[0m\u001b[0m\n\u001b[1;32m     15\u001b[0m                         ])])) - array([test_rate_f_15_24[i],diag_rate_f_15_24[i]]), [0.03, 0.44])\n\u001b[0;32m---> 16\u001b[0;31m     \u001b[0mprev_f_15_24\u001b[0m\u001b[0;34m[\u001b[0m\u001b[0mi\u001b[0m\u001b[0;34m]\u001b[0m \u001b[0;34m=\u001b[0m \u001b[0mdyn_fun\u001b[0m\u001b[0;34m(\u001b[0m\u001b[0minc_f_15_24\u001b[0m\u001b[0;34m[\u001b[0m\u001b[0mi\u001b[0m\u001b[0;34m]\u001b[0m\u001b[0;34m*\u001b[0m\u001b[0mp_asymp_f\u001b[0m\u001b[0;34m[\u001b[0m\u001b[0mi\u001b[0m\u001b[0;34m]\u001b[0m\u001b[0;34m,\u001b[0m \u001b[0msc_f\u001b[0m\u001b[0;34m[\u001b[0m\u001b[0mi\u001b[0m\u001b[0;34m]\u001b[0m \u001b[0;34m+\u001b[0m \u001b[0mscr_f_15_24\u001b[0m\u001b[0;34m[\u001b[0m\u001b[0mi\u001b[0m\u001b[0;34m]\u001b[0m\u001b[0;34m*\u001b[0m\u001b[0mp_true_pos_f\u001b[0m\u001b[0;34m[\u001b[0m\u001b[0mi\u001b[0m\u001b[0;34m]\u001b[0m\u001b[0;34m,\u001b[0m \u001b[0minc_f_15_24\u001b[0m\u001b[0;34m[\u001b[0m\u001b[0mi\u001b[0m\u001b[0;34m]\u001b[0m\u001b[0;34m*\u001b[0m\u001b[0;34m(\u001b[0m\u001b[0;36m1\u001b[0m\u001b[0;34m-\u001b[0m\u001b[0mp_asymp_f\u001b[0m\u001b[0;34m[\u001b[0m\u001b[0mi\u001b[0m\u001b[0;34m]\u001b[0m\u001b[0;34m)\u001b[0m\u001b[0;34m,\u001b[0m \u001b[0msc_f\u001b[0m\u001b[0;34m[\u001b[0m\u001b[0mi\u001b[0m\u001b[0;34m]\u001b[0m \u001b[0;34m+\u001b[0m \u001b[0mscr_f_15_24\u001b[0m\u001b[0;34m[\u001b[0m\u001b[0mi\u001b[0m\u001b[0;34m]\u001b[0m\u001b[0;34m*\u001b[0m\u001b[0mp_true_pos_f\u001b[0m\u001b[0;34m[\u001b[0m\u001b[0mi\u001b[0m\u001b[0;34m]\u001b[0m \u001b[0;34m+\u001b[0m \u001b[0matt_symp\u001b[0m\u001b[0;34m[\u001b[0m\u001b[0mi\u001b[0m\u001b[0;34m]\u001b[0m\u001b[0;34m*\u001b[0m\u001b[0mp_true_pos_f\u001b[0m\u001b[0;34m[\u001b[0m\u001b[0mi\u001b[0m\u001b[0;34m]\u001b[0m\u001b[0;34m)\u001b[0m\u001b[0;34m\u001b[0m\u001b[0m\n\u001b[0m",
      "\u001b[0;31mTypeError\u001b[0m: <lambda>() takes exactly 8 arguments (4 given)"
     ]
    }
   ],
   "source": [
    "prev_f_15_24 = zeros(n_sample)\n",
    "inc_f_15_24 = zeros(n_sample)\n",
    "scr_f_15_24 = zeros(n_sample)\n",
    "\n",
    "for i in xrange(n_sample):\n",
    "    [inc_f_15_24[i], scr_f_15_24[i]] = fsolve(lambda x: test_diag_fun(concatenate([\n",
    "                    x, array([\n",
    "                            1-p_asymp_f[i], # proportion of incident infections which are symptomatic\n",
    "                            p_fast[i], # proportion of incident infections which clear fast\n",
    "                            sc_f[i], # fast rate of self-clear \n",
    "                            sc_s[i], # slow rate of self-clear \n",
    "                            att_symp[i],\n",
    "                            p_true_pos_f[i], \n",
    "                            p_false_pos_f[i]\n",
    "                        ])])) - array([test_rate_f_15_24[i],diag_rate_f_15_24[i]]), [0.03, 0.44])\n",
    "    prev_f_15_24[i] = dyn_fun(\n",
    "        inc_f_15_24[i]*p_asymp_f[i]*p_fast[i], \n",
    "        inc_f_15_24[i]*p_asymp_f[i]*(1-p_fast[i]), \n",
    "        sc_f[i] + scr_f_15_24[i]*p_true_pos_f[i], \n",
    "        sc_s[i] + scr_f_15_24[i]*p_true_pos_f[i], \n",
    "        inc_f_15_24[i]*(1-p_asymp_f[i])*p_fast[i], \n",
    "        inc_f_15_24[i]*(1-p_asymp_f[i])*(1-p_fast[i]), \n",
    "        sc_f[i] + scr_f_15_24[i]*p_true_pos_f[i] + att_symp[i]*p_true_pos_f[i],\n",
    "        sc_s[i] + scr_f_15_24[i]*p_true_pos_f[i] + att_symp[i]*p_true_pos_f[i]\n",
    "    )"
   ]
  },
  {
   "cell_type": "code",
   "execution_count": 39,
   "metadata": {
    "collapsed": false
   },
   "outputs": [
    {
     "data": {
      "text/plain": [
       "Matrix([[0, 0, 0, 0, 0, 0, 0, 0, 0, 0, 0, 0, 0, 0, 0, 0, 0, 0, 0, 0, 0, 0, 0, 0, 0, 0, 0, 0, 0, 0, 0, 0, 0, 0, 0, 0, 0, 0, 0, 0, 0, 0, 0, 0, 0, 0, 0, 0, 0, 0, 0, 0, 0, 0, 0, 0, 0, 0, 0, 0, 0, 0, 0, 0, 0, 0, 0, 0, 0, 0, 0, 0, 0, 0, 0, 0, 0, 0, 0, 0, 0, 0, 0, 0, 0, 0, 0, 0, 0, 0, 0, 0, 0, 0, 0, 0, 0, 0, 0, 0]])"
      ]
     },
     "execution_count": 39,
     "metadata": {},
     "output_type": "execute_result"
    }
   ],
   "source": [
    "prev_f_15_24"
   ]
  },
  {
   "cell_type": "code",
   "execution_count": null,
   "metadata": {
    "collapsed": true
   },
   "outputs": [],
   "source": [
    "(alpha_UAf, alpha_UAs, alpha_AfU, alpha_AsU, alpha_USf, alpha_USs, alpha_SfU, alpha_SsU)"
   ]
  }
 ],
 "metadata": {
  "kernelspec": {
   "display_name": "Python 2",
   "language": "python",
   "name": "python2"
  },
  "language_info": {
   "codemirror_mode": {
    "name": "ipython",
    "version": 2
   },
   "file_extension": ".py",
   "mimetype": "text/x-python",
   "name": "python",
   "nbconvert_exporter": "python",
   "pygments_lexer": "ipython2",
   "version": "2.7.10"
  }
 },
 "nbformat": 4,
 "nbformat_minor": 0
}
